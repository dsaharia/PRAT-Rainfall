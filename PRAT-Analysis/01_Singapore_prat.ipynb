{
 "cells": [
  {
   "cell_type": "markdown",
   "metadata": {},
   "source": [
    "## Singapore Rainfall data for the location (1.30◦N,103.68◦E), collected in year 2010 from ground-based weather station with high resolution.\n",
    "---\n",
    "**AIM** - To understands the relationship between the precipitation estimates from various sensors: ground-based weather stations (PRAT), publicly available weather gauge data, satellite-based, and merged products. The case study is Singapore in our case.\n",
    "\n",
    "Exploratory analysis - Initial Plotting and Data Parsing."
   ]
  },
  {
   "cell_type": "code",
   "execution_count": 1,
   "metadata": {},
   "outputs": [
    {
     "name": "stdout",
     "output_type": "stream",
     "text": [
      "Xarray Version: 0.18.2\n",
      "Pandas Version: 1.2.4\n",
      "Numpy Version: 1.18.1\n"
     ]
    }
   ],
   "source": [
    "%matplotlib inline\n",
    "from glob import glob # For selecting multiple filenames\n",
    "import pandas as pd\n",
    "import numpy as np\n",
    "import datetime\n",
    "import matplotlib.pyplot as plt\n",
    "import matplotlib.style as style\n",
    "import xarray as xr\n",
    "import seaborn as sns # for density plots\n",
    "import matplotlib.dates as mdates\n",
    "from matplotlib.backends.backend_pdf import PdfPages\n",
    "from pandas.plotting import register_matplotlib_converters\n",
    "register_matplotlib_converters()\n",
    "from sklearn.metrics import mean_squared_error\n",
    "# # Used for DTW\n",
    "from scipy.spatial.distance import cdist\n",
    "from tslearn import metrics\n",
    "from tslearn.preprocessing import TimeSeriesScalerMeanVariance\n",
    "# from datetime import datetime\n",
    "style.use('seaborn-whitegrid')\n",
    "plt.rcParams[\"figure.figsize\"] = (16,5) # For Increasing Size of graph\n",
    "print(f\"Xarray Version: {xr.__version__}\")\n",
    "print(f\"Pandas Version: {pd.__version__}\")\n",
    "print(f\"Numpy Version: {np.__version__}\")"
   ]
  },
  {
   "cell_type": "code",
   "execution_count": 3,
   "metadata": {},
   "outputs": [],
   "source": [
    "# from IPython.core.display import display, HTML\n",
    "# display(HTML(\"<style>.container { width:100% !important; }</style>\"))"
   ]
  },
  {
   "cell_type": "markdown",
   "metadata": {},
   "source": [
    "# Data Importing\n",
    "---\n",
    "\n",
    "* For **PRAT - PRivate and Agile Temporally data**, which is the ground based station with high resolution"
   ]
  },
  {
   "cell_type": "code",
   "execution_count": 2,
   "metadata": {},
   "outputs": [],
   "source": [
    "# Dataframe for PRAT--> PRivate and Agile Temporally data\n",
    "prat_rainfall_df = pd.read_csv(\"data/imagerdata.csv\", header=None, names=[\"day\", \"hour\", \"minute\", \"rainfall_rate\"])"
   ]
  },
  {
   "cell_type": "markdown",
   "metadata": {},
   "source": [
    "* For **CHIRPS** - Satellite based public data"
   ]
  },
  {
   "cell_type": "code",
   "execution_count": 3,
   "metadata": {},
   "outputs": [],
   "source": [
    "chirps_dataset = xr.open_dataset('data/chirps-2010.nc') # open the dataset using xarray"
   ]
  },
  {
   "cell_type": "markdown",
   "metadata": {},
   "source": [
    "* From **Global Precipitation Measurement (GPM)**"
   ]
  },
  {
   "cell_type": "code",
   "execution_count": 4,
   "metadata": {},
   "outputs": [],
   "source": [
    "gpm_dataset = xr.open_dataset('data/singaporeIMERG.nc')"
   ]
  },
  {
   "cell_type": "markdown",
   "metadata": {},
   "source": [
    "* From **Ground based Gauge Station by Meteorological Service Singapore (MSS)**"
   ]
  },
  {
   "cell_type": "code",
   "execution_count": 5,
   "metadata": {},
   "outputs": [
    {
     "data": {
      "text/html": [
       "<div>\n",
       "<style scoped>\n",
       "    .dataframe tbody tr th:only-of-type {\n",
       "        vertical-align: middle;\n",
       "    }\n",
       "\n",
       "    .dataframe tbody tr th {\n",
       "        vertical-align: top;\n",
       "    }\n",
       "\n",
       "    .dataframe thead th {\n",
       "        text-align: right;\n",
       "    }\n",
       "</style>\n",
       "<table border=\"1\" class=\"dataframe\">\n",
       "  <thead>\n",
       "    <tr style=\"text-align: right;\">\n",
       "      <th></th>\n",
       "      <th>Year</th>\n",
       "      <th>Month</th>\n",
       "      <th>Day</th>\n",
       "      <th>Daily Rainfall Total (mm)</th>\n",
       "    </tr>\n",
       "  </thead>\n",
       "  <tbody>\n",
       "    <tr>\n",
       "      <th>0</th>\n",
       "      <td>2010</td>\n",
       "      <td>5</td>\n",
       "      <td>1</td>\n",
       "      <td>0.2</td>\n",
       "    </tr>\n",
       "    <tr>\n",
       "      <th>1</th>\n",
       "      <td>2010</td>\n",
       "      <td>5</td>\n",
       "      <td>2</td>\n",
       "      <td>0.0</td>\n",
       "    </tr>\n",
       "    <tr>\n",
       "      <th>2</th>\n",
       "      <td>2010</td>\n",
       "      <td>5</td>\n",
       "      <td>3</td>\n",
       "      <td>5.2</td>\n",
       "    </tr>\n",
       "    <tr>\n",
       "      <th>3</th>\n",
       "      <td>2010</td>\n",
       "      <td>5</td>\n",
       "      <td>4</td>\n",
       "      <td>7.2</td>\n",
       "    </tr>\n",
       "    <tr>\n",
       "      <th>4</th>\n",
       "      <td>2010</td>\n",
       "      <td>5</td>\n",
       "      <td>5</td>\n",
       "      <td>3.8</td>\n",
       "    </tr>\n",
       "  </tbody>\n",
       "</table>\n",
       "</div>"
      ],
      "text/plain": [
       "   Year  Month  Day  Daily Rainfall Total (mm)\n",
       "0  2010      5    1                        0.2\n",
       "1  2010      5    2                        0.0\n",
       "2  2010      5    3                        5.2\n",
       "3  2010      5    4                        7.2\n",
       "4  2010      5    5                        3.8"
      ]
     },
     "execution_count": 5,
     "metadata": {},
     "output_type": "execute_result"
    }
   ],
   "source": [
    "# Import using glob\n",
    "filenames = glob(\"data/daily_*.csv\")\n",
    "gauge_station_df = pd.concat([pd.read_csv(filename, encoding= 'unicode_escape', usecols = ['Year', 'Month', 'Day', 'Daily Rainfall Total (mm)']) \n",
    "                              for filename in filenames], axis=0)\n",
    "\n",
    "gauge_station_df.head()"
   ]
  },
  {
   "cell_type": "code",
   "execution_count": null,
   "metadata": {},
   "outputs": [],
   "source": []
  },
  {
   "cell_type": "markdown",
   "metadata": {},
   "source": [
    "# Parsing the Datasets"
   ]
  },
  {
   "cell_type": "markdown",
   "metadata": {},
   "source": [
    "* **Gauge Station**\n",
    "\n",
    "Parse Year, Month and day. Convert to datetime. Set index to timestamp. Drop Year, Month and Day columns. Rename the column"
   ]
  },
  {
   "cell_type": "code",
   "execution_count": 6,
   "metadata": {
    "scrolled": true
   },
   "outputs": [
    {
     "data": {
      "text/html": [
       "<div>\n",
       "<style scoped>\n",
       "    .dataframe tbody tr th:only-of-type {\n",
       "        vertical-align: middle;\n",
       "    }\n",
       "\n",
       "    .dataframe tbody tr th {\n",
       "        vertical-align: top;\n",
       "    }\n",
       "\n",
       "    .dataframe thead th {\n",
       "        text-align: right;\n",
       "    }\n",
       "</style>\n",
       "<table border=\"1\" class=\"dataframe\">\n",
       "  <thead>\n",
       "    <tr style=\"text-align: right;\">\n",
       "      <th></th>\n",
       "      <th>rainfall_rate</th>\n",
       "    </tr>\n",
       "    <tr>\n",
       "      <th>timestamp</th>\n",
       "      <th></th>\n",
       "    </tr>\n",
       "  </thead>\n",
       "  <tbody>\n",
       "    <tr>\n",
       "      <th>2010-05-01</th>\n",
       "      <td>0.2</td>\n",
       "    </tr>\n",
       "    <tr>\n",
       "      <th>2010-05-02</th>\n",
       "      <td>0.0</td>\n",
       "    </tr>\n",
       "    <tr>\n",
       "      <th>2010-05-03</th>\n",
       "      <td>5.2</td>\n",
       "    </tr>\n",
       "    <tr>\n",
       "      <th>2010-05-04</th>\n",
       "      <td>7.2</td>\n",
       "    </tr>\n",
       "    <tr>\n",
       "      <th>2010-05-05</th>\n",
       "      <td>3.8</td>\n",
       "    </tr>\n",
       "  </tbody>\n",
       "</table>\n",
       "</div>"
      ],
      "text/plain": [
       "            rainfall_rate\n",
       "timestamp                \n",
       "2010-05-01            0.2\n",
       "2010-05-02            0.0\n",
       "2010-05-03            5.2\n",
       "2010-05-04            7.2\n",
       "2010-05-05            3.8"
      ]
     },
     "execution_count": 6,
     "metadata": {},
     "output_type": "execute_result"
    }
   ],
   "source": [
    "# Semicolon is used to separate month and day, otherwise datetime is wrongly converted\n",
    "gauge_station_df['timestamp'] = pd.to_datetime(gauge_station_df['Year'].astype(str) + \n",
    "                                               gauge_station_df['Month'].astype(str) + \":\"+ \n",
    "                                               gauge_station_df['Day'].astype(str), format=\"%Y%m:%d\")\n",
    "\n",
    "gauge_station_df.set_index('timestamp', inplace=True)\n",
    "gauge_station_df.drop(['Year', 'Month', 'Day'], inplace=True, axis=1)\n",
    "gauge_station_df.sort_index(axis=0)\n",
    "gauge_station_df.rename(columns={'Daily Rainfall Total (mm)':'rainfall_rate'}, inplace=True)\n",
    "\n",
    "gauge_station_df.head()"
   ]
  },
  {
   "cell_type": "markdown",
   "metadata": {},
   "source": [
    "* **CHIRPS**"
   ]
  },
  {
   "cell_type": "code",
   "execution_count": 7,
   "metadata": {},
   "outputs": [],
   "source": [
    "monsoon_chirps = chirps_dataset.sel(time=slice('2010-06-01','2010-09-30'), \n",
    "                                    longitude=103.67499, latitude=1.324997)"
   ]
  },
  {
   "cell_type": "markdown",
   "metadata": {},
   "source": [
    "* **GPM**\n",
    "\n",
    "The Dates are not of proper format. So, need to change it to suitable python datetime object"
   ]
  },
  {
   "cell_type": "code",
   "execution_count": 8,
   "metadata": {},
   "outputs": [
    {
     "name": "stderr",
     "output_type": "stream",
     "text": [
      "/Users/dhirajsaharia/miniconda3/lib/python3.7/site-packages/ipykernel_launcher.py:1: RuntimeWarning: Converting a CFTimeIndex with dates from a non-standard calendar, 'julian', to a pandas.DatetimeIndex, which uses dates from the standard calendar.  This may lead to subtle errors in operations that depend on the length of time between dates.\n",
      "  \"\"\"Entry point for launching an IPython kernel.\n"
     ]
    }
   ],
   "source": [
    "gpm_dataset['time'] = gpm_dataset.indexes['time'].to_datetimeindex()"
   ]
  },
  {
   "cell_type": "code",
   "execution_count": 9,
   "metadata": {},
   "outputs": [
    {
     "data": {
      "text/html": [
       "<div><svg style=\"position: absolute; width: 0; height: 0; overflow: hidden\">\n",
       "<defs>\n",
       "<symbol id=\"icon-database\" viewBox=\"0 0 32 32\">\n",
       "<path d=\"M16 0c-8.837 0-16 2.239-16 5v4c0 2.761 7.163 5 16 5s16-2.239 16-5v-4c0-2.761-7.163-5-16-5z\"></path>\n",
       "<path d=\"M16 17c-8.837 0-16-2.239-16-5v6c0 2.761 7.163 5 16 5s16-2.239 16-5v-6c0 2.761-7.163 5-16 5z\"></path>\n",
       "<path d=\"M16 26c-8.837 0-16-2.239-16-5v6c0 2.761 7.163 5 16 5s16-2.239 16-5v-6c0 2.761-7.163 5-16 5z\"></path>\n",
       "</symbol>\n",
       "<symbol id=\"icon-file-text2\" viewBox=\"0 0 32 32\">\n",
       "<path d=\"M28.681 7.159c-0.694-0.947-1.662-2.053-2.724-3.116s-2.169-2.030-3.116-2.724c-1.612-1.182-2.393-1.319-2.841-1.319h-15.5c-1.378 0-2.5 1.121-2.5 2.5v27c0 1.378 1.122 2.5 2.5 2.5h23c1.378 0 2.5-1.122 2.5-2.5v-19.5c0-0.448-0.137-1.23-1.319-2.841zM24.543 5.457c0.959 0.959 1.712 1.825 2.268 2.543h-4.811v-4.811c0.718 0.556 1.584 1.309 2.543 2.268zM28 29.5c0 0.271-0.229 0.5-0.5 0.5h-23c-0.271 0-0.5-0.229-0.5-0.5v-27c0-0.271 0.229-0.5 0.5-0.5 0 0 15.499-0 15.5 0v7c0 0.552 0.448 1 1 1h7v19.5z\"></path>\n",
       "<path d=\"M23 26h-14c-0.552 0-1-0.448-1-1s0.448-1 1-1h14c0.552 0 1 0.448 1 1s-0.448 1-1 1z\"></path>\n",
       "<path d=\"M23 22h-14c-0.552 0-1-0.448-1-1s0.448-1 1-1h14c0.552 0 1 0.448 1 1s-0.448 1-1 1z\"></path>\n",
       "<path d=\"M23 18h-14c-0.552 0-1-0.448-1-1s0.448-1 1-1h14c0.552 0 1 0.448 1 1s-0.448 1-1 1z\"></path>\n",
       "</symbol>\n",
       "</defs>\n",
       "</svg>\n",
       "<style>/* CSS stylesheet for displaying xarray objects in jupyterlab.\n",
       " *\n",
       " */\n",
       "\n",
       ":root {\n",
       "  --xr-font-color0: var(--jp-content-font-color0, rgba(0, 0, 0, 1));\n",
       "  --xr-font-color2: var(--jp-content-font-color2, rgba(0, 0, 0, 0.54));\n",
       "  --xr-font-color3: var(--jp-content-font-color3, rgba(0, 0, 0, 0.38));\n",
       "  --xr-border-color: var(--jp-border-color2, #e0e0e0);\n",
       "  --xr-disabled-color: var(--jp-layout-color3, #bdbdbd);\n",
       "  --xr-background-color: var(--jp-layout-color0, white);\n",
       "  --xr-background-color-row-even: var(--jp-layout-color1, white);\n",
       "  --xr-background-color-row-odd: var(--jp-layout-color2, #eeeeee);\n",
       "}\n",
       "\n",
       "html[theme=dark],\n",
       "body.vscode-dark {\n",
       "  --xr-font-color0: rgba(255, 255, 255, 1);\n",
       "  --xr-font-color2: rgba(255, 255, 255, 0.54);\n",
       "  --xr-font-color3: rgba(255, 255, 255, 0.38);\n",
       "  --xr-border-color: #1F1F1F;\n",
       "  --xr-disabled-color: #515151;\n",
       "  --xr-background-color: #111111;\n",
       "  --xr-background-color-row-even: #111111;\n",
       "  --xr-background-color-row-odd: #313131;\n",
       "}\n",
       "\n",
       ".xr-wrap {\n",
       "  display: block;\n",
       "  min-width: 300px;\n",
       "  max-width: 700px;\n",
       "}\n",
       "\n",
       ".xr-text-repr-fallback {\n",
       "  /* fallback to plain text repr when CSS is not injected (untrusted notebook) */\n",
       "  display: none;\n",
       "}\n",
       "\n",
       ".xr-header {\n",
       "  padding-top: 6px;\n",
       "  padding-bottom: 6px;\n",
       "  margin-bottom: 4px;\n",
       "  border-bottom: solid 1px var(--xr-border-color);\n",
       "}\n",
       "\n",
       ".xr-header > div,\n",
       ".xr-header > ul {\n",
       "  display: inline;\n",
       "  margin-top: 0;\n",
       "  margin-bottom: 0;\n",
       "}\n",
       "\n",
       ".xr-obj-type,\n",
       ".xr-array-name {\n",
       "  margin-left: 2px;\n",
       "  margin-right: 10px;\n",
       "}\n",
       "\n",
       ".xr-obj-type {\n",
       "  color: var(--xr-font-color2);\n",
       "}\n",
       "\n",
       ".xr-sections {\n",
       "  padding-left: 0 !important;\n",
       "  display: grid;\n",
       "  grid-template-columns: 150px auto auto 1fr 20px 20px;\n",
       "}\n",
       "\n",
       ".xr-section-item {\n",
       "  display: contents;\n",
       "}\n",
       "\n",
       ".xr-section-item input {\n",
       "  display: none;\n",
       "}\n",
       "\n",
       ".xr-section-item input + label {\n",
       "  color: var(--xr-disabled-color);\n",
       "}\n",
       "\n",
       ".xr-section-item input:enabled + label {\n",
       "  cursor: pointer;\n",
       "  color: var(--xr-font-color2);\n",
       "}\n",
       "\n",
       ".xr-section-item input:enabled + label:hover {\n",
       "  color: var(--xr-font-color0);\n",
       "}\n",
       "\n",
       ".xr-section-summary {\n",
       "  grid-column: 1;\n",
       "  color: var(--xr-font-color2);\n",
       "  font-weight: 500;\n",
       "}\n",
       "\n",
       ".xr-section-summary > span {\n",
       "  display: inline-block;\n",
       "  padding-left: 0.5em;\n",
       "}\n",
       "\n",
       ".xr-section-summary-in:disabled + label {\n",
       "  color: var(--xr-font-color2);\n",
       "}\n",
       "\n",
       ".xr-section-summary-in + label:before {\n",
       "  display: inline-block;\n",
       "  content: '►';\n",
       "  font-size: 11px;\n",
       "  width: 15px;\n",
       "  text-align: center;\n",
       "}\n",
       "\n",
       ".xr-section-summary-in:disabled + label:before {\n",
       "  color: var(--xr-disabled-color);\n",
       "}\n",
       "\n",
       ".xr-section-summary-in:checked + label:before {\n",
       "  content: '▼';\n",
       "}\n",
       "\n",
       ".xr-section-summary-in:checked + label > span {\n",
       "  display: none;\n",
       "}\n",
       "\n",
       ".xr-section-summary,\n",
       ".xr-section-inline-details {\n",
       "  padding-top: 4px;\n",
       "  padding-bottom: 4px;\n",
       "}\n",
       "\n",
       ".xr-section-inline-details {\n",
       "  grid-column: 2 / -1;\n",
       "}\n",
       "\n",
       ".xr-section-details {\n",
       "  display: none;\n",
       "  grid-column: 1 / -1;\n",
       "  margin-bottom: 5px;\n",
       "}\n",
       "\n",
       ".xr-section-summary-in:checked ~ .xr-section-details {\n",
       "  display: contents;\n",
       "}\n",
       "\n",
       ".xr-array-wrap {\n",
       "  grid-column: 1 / -1;\n",
       "  display: grid;\n",
       "  grid-template-columns: 20px auto;\n",
       "}\n",
       "\n",
       ".xr-array-wrap > label {\n",
       "  grid-column: 1;\n",
       "  vertical-align: top;\n",
       "}\n",
       "\n",
       ".xr-preview {\n",
       "  color: var(--xr-font-color3);\n",
       "}\n",
       "\n",
       ".xr-array-preview,\n",
       ".xr-array-data {\n",
       "  padding: 0 5px !important;\n",
       "  grid-column: 2;\n",
       "}\n",
       "\n",
       ".xr-array-data,\n",
       ".xr-array-in:checked ~ .xr-array-preview {\n",
       "  display: none;\n",
       "}\n",
       "\n",
       ".xr-array-in:checked ~ .xr-array-data,\n",
       ".xr-array-preview {\n",
       "  display: inline-block;\n",
       "}\n",
       "\n",
       ".xr-dim-list {\n",
       "  display: inline-block !important;\n",
       "  list-style: none;\n",
       "  padding: 0 !important;\n",
       "  margin: 0;\n",
       "}\n",
       "\n",
       ".xr-dim-list li {\n",
       "  display: inline-block;\n",
       "  padding: 0;\n",
       "  margin: 0;\n",
       "}\n",
       "\n",
       ".xr-dim-list:before {\n",
       "  content: '(';\n",
       "}\n",
       "\n",
       ".xr-dim-list:after {\n",
       "  content: ')';\n",
       "}\n",
       "\n",
       ".xr-dim-list li:not(:last-child):after {\n",
       "  content: ',';\n",
       "  padding-right: 5px;\n",
       "}\n",
       "\n",
       ".xr-has-index {\n",
       "  font-weight: bold;\n",
       "}\n",
       "\n",
       ".xr-var-list,\n",
       ".xr-var-item {\n",
       "  display: contents;\n",
       "}\n",
       "\n",
       ".xr-var-item > div,\n",
       ".xr-var-item label,\n",
       ".xr-var-item > .xr-var-name span {\n",
       "  background-color: var(--xr-background-color-row-even);\n",
       "  margin-bottom: 0;\n",
       "}\n",
       "\n",
       ".xr-var-item > .xr-var-name:hover span {\n",
       "  padding-right: 5px;\n",
       "}\n",
       "\n",
       ".xr-var-list > li:nth-child(odd) > div,\n",
       ".xr-var-list > li:nth-child(odd) > label,\n",
       ".xr-var-list > li:nth-child(odd) > .xr-var-name span {\n",
       "  background-color: var(--xr-background-color-row-odd);\n",
       "}\n",
       "\n",
       ".xr-var-name {\n",
       "  grid-column: 1;\n",
       "}\n",
       "\n",
       ".xr-var-dims {\n",
       "  grid-column: 2;\n",
       "}\n",
       "\n",
       ".xr-var-dtype {\n",
       "  grid-column: 3;\n",
       "  text-align: right;\n",
       "  color: var(--xr-font-color2);\n",
       "}\n",
       "\n",
       ".xr-var-preview {\n",
       "  grid-column: 4;\n",
       "}\n",
       "\n",
       ".xr-var-name,\n",
       ".xr-var-dims,\n",
       ".xr-var-dtype,\n",
       ".xr-preview,\n",
       ".xr-attrs dt {\n",
       "  white-space: nowrap;\n",
       "  overflow: hidden;\n",
       "  text-overflow: ellipsis;\n",
       "  padding-right: 10px;\n",
       "}\n",
       "\n",
       ".xr-var-name:hover,\n",
       ".xr-var-dims:hover,\n",
       ".xr-var-dtype:hover,\n",
       ".xr-attrs dt:hover {\n",
       "  overflow: visible;\n",
       "  width: auto;\n",
       "  z-index: 1;\n",
       "}\n",
       "\n",
       ".xr-var-attrs,\n",
       ".xr-var-data {\n",
       "  display: none;\n",
       "  background-color: var(--xr-background-color) !important;\n",
       "  padding-bottom: 5px !important;\n",
       "}\n",
       "\n",
       ".xr-var-attrs-in:checked ~ .xr-var-attrs,\n",
       ".xr-var-data-in:checked ~ .xr-var-data {\n",
       "  display: block;\n",
       "}\n",
       "\n",
       ".xr-var-data > table {\n",
       "  float: right;\n",
       "}\n",
       "\n",
       ".xr-var-name span,\n",
       ".xr-var-data,\n",
       ".xr-attrs {\n",
       "  padding-left: 25px !important;\n",
       "}\n",
       "\n",
       ".xr-attrs,\n",
       ".xr-var-attrs,\n",
       ".xr-var-data {\n",
       "  grid-column: 1 / -1;\n",
       "}\n",
       "\n",
       "dl.xr-attrs {\n",
       "  padding: 0;\n",
       "  margin: 0;\n",
       "  display: grid;\n",
       "  grid-template-columns: 125px auto;\n",
       "}\n",
       "\n",
       ".xr-attrs dt,\n",
       ".xr-attrs dd {\n",
       "  padding: 0;\n",
       "  margin: 0;\n",
       "  float: left;\n",
       "  padding-right: 10px;\n",
       "  width: auto;\n",
       "}\n",
       "\n",
       ".xr-attrs dt {\n",
       "  font-weight: normal;\n",
       "  grid-column: 1;\n",
       "}\n",
       "\n",
       ".xr-attrs dt:hover span {\n",
       "  display: inline-block;\n",
       "  background: var(--xr-background-color);\n",
       "  padding-right: 10px;\n",
       "}\n",
       "\n",
       ".xr-attrs dd {\n",
       "  grid-column: 2;\n",
       "  white-space: pre-wrap;\n",
       "  word-break: break-all;\n",
       "}\n",
       "\n",
       ".xr-icon-database,\n",
       ".xr-icon-file-text2 {\n",
       "  display: inline-block;\n",
       "  vertical-align: middle;\n",
       "  width: 1em;\n",
       "  height: 1.5em !important;\n",
       "  stroke-width: 0;\n",
       "  stroke: currentColor;\n",
       "  fill: currentColor;\n",
       "}\n",
       "</style><pre class='xr-text-repr-fallback'>&lt;xarray.Dataset&gt;\n",
       "Dimensions:           (time: 365)\n",
       "Coordinates:\n",
       "  * time              (time) datetime64[ns] 2010-01-01 2010-01-02 ... 2010-12-31\n",
       "    lat               float32 1.25\n",
       "    lon               float32 103.7\n",
       "Data variables:\n",
       "    precipitationCal  (time) float32 5.601 0.6215 8.942 ... 0.631 12.4 0.9252</pre><div class='xr-wrap' hidden><div class='xr-header'><div class='xr-obj-type'>xarray.Dataset</div></div><ul class='xr-sections'><li class='xr-section-item'><input id='section-eba3f2e5-fb9d-4811-8f31-fbd13f1efaa0' class='xr-section-summary-in' type='checkbox' disabled ><label for='section-eba3f2e5-fb9d-4811-8f31-fbd13f1efaa0' class='xr-section-summary'  title='Expand/collapse section'>Dimensions:</label><div class='xr-section-inline-details'><ul class='xr-dim-list'><li><span class='xr-has-index'>time</span>: 365</li></ul></div><div class='xr-section-details'></div></li><li class='xr-section-item'><input id='section-35b8ecc9-37dd-49ac-9f7f-24b65bb053db' class='xr-section-summary-in' type='checkbox'  checked><label for='section-35b8ecc9-37dd-49ac-9f7f-24b65bb053db' class='xr-section-summary' >Coordinates: <span>(3)</span></label><div class='xr-section-inline-details'></div><div class='xr-section-details'><ul class='xr-var-list'><li class='xr-var-item'><div class='xr-var-name'><span class='xr-has-index'>time</span></div><div class='xr-var-dims'>(time)</div><div class='xr-var-dtype'>datetime64[ns]</div><div class='xr-var-preview xr-preview'>2010-01-01 ... 2010-12-31</div><input id='attrs-d2e8526b-5395-4a78-9512-dd4baea8fcf2' class='xr-var-attrs-in' type='checkbox' disabled><label for='attrs-d2e8526b-5395-4a78-9512-dd4baea8fcf2' title='Show/Hide attributes'><svg class='icon xr-icon-file-text2'><use xlink:href='#icon-file-text2'></use></svg></label><input id='data-9e115e07-0193-465b-a52f-edbeee4d508f' class='xr-var-data-in' type='checkbox'><label for='data-9e115e07-0193-465b-a52f-edbeee4d508f' title='Show/Hide data repr'><svg class='icon xr-icon-database'><use xlink:href='#icon-database'></use></svg></label><div class='xr-var-attrs'><dl class='xr-attrs'></dl></div><div class='xr-var-data'><pre>array([&#x27;2010-01-01T00:00:00.000000000&#x27;, &#x27;2010-01-02T00:00:00.000000000&#x27;,\n",
       "       &#x27;2010-01-03T00:00:00.000000000&#x27;, ..., &#x27;2010-12-29T00:00:00.000000000&#x27;,\n",
       "       &#x27;2010-12-30T00:00:00.000000000&#x27;, &#x27;2010-12-31T00:00:00.000000000&#x27;],\n",
       "      dtype=&#x27;datetime64[ns]&#x27;)</pre></div></li><li class='xr-var-item'><div class='xr-var-name'><span>lat</span></div><div class='xr-var-dims'>()</div><div class='xr-var-dtype'>float32</div><div class='xr-var-preview xr-preview'>1.25</div><input id='attrs-caecf9e2-8cf6-4a8b-9f18-a29b5abd4160' class='xr-var-attrs-in' type='checkbox' ><label for='attrs-caecf9e2-8cf6-4a8b-9f18-a29b5abd4160' title='Show/Hide attributes'><svg class='icon xr-icon-file-text2'><use xlink:href='#icon-file-text2'></use></svg></label><input id='data-c341d20e-18cd-42ef-837a-f01f50ff2a11' class='xr-var-data-in' type='checkbox'><label for='data-c341d20e-18cd-42ef-837a-f01f50ff2a11' title='Show/Hide data repr'><svg class='icon xr-icon-database'><use xlink:href='#icon-database'></use></svg></label><div class='xr-var-attrs'><dl class='xr-attrs'><dt><span>DimensionNames :</span></dt><dd>lat</dd><dt><span>Units :</span></dt><dd>degrees_north</dd><dt><span>units :</span></dt><dd>degrees_north</dd><dt><span>standard_name :</span></dt><dd>latitude</dd><dt><span>LongName :</span></dt><dd>Latitude at the center of\n",
       "\t\t\t0.10 degree grid intervals of latitude\n",
       "\t\t\tfrom -90 to 90.</dd><dt><span>bounds :</span></dt><dd>lat_bnds</dd><dt><span>axis :</span></dt><dd>Y</dd><dt><span>origname :</span></dt><dd>lat</dd><dt><span>fullnamepath :</span></dt><dd>/Grid/lat</dd></dl></div><div class='xr-var-data'><pre>array(1.25, dtype=float32)</pre></div></li><li class='xr-var-item'><div class='xr-var-name'><span>lon</span></div><div class='xr-var-dims'>()</div><div class='xr-var-dtype'>float32</div><div class='xr-var-preview xr-preview'>103.7</div><input id='attrs-9d61d3c7-a9bd-4d27-8a83-4b26e84a6641' class='xr-var-attrs-in' type='checkbox' ><label for='attrs-9d61d3c7-a9bd-4d27-8a83-4b26e84a6641' title='Show/Hide attributes'><svg class='icon xr-icon-file-text2'><use xlink:href='#icon-file-text2'></use></svg></label><input id='data-786cde45-a5d6-42bd-87da-82927fe88cfe' class='xr-var-data-in' type='checkbox'><label for='data-786cde45-a5d6-42bd-87da-82927fe88cfe' title='Show/Hide data repr'><svg class='icon xr-icon-database'><use xlink:href='#icon-database'></use></svg></label><div class='xr-var-attrs'><dl class='xr-attrs'><dt><span>DimensionNames :</span></dt><dd>lon</dd><dt><span>Units :</span></dt><dd>degrees_east</dd><dt><span>units :</span></dt><dd>degrees_east</dd><dt><span>standard_name :</span></dt><dd>longitude</dd><dt><span>LongName :</span></dt><dd>Longitude at the center of\n",
       "\t\t\t0.10 degree grid intervals of longitude \n",
       "\t\t\tfrom -180 to 180.</dd><dt><span>bounds :</span></dt><dd>lon_bnds</dd><dt><span>axis :</span></dt><dd>X</dd><dt><span>origname :</span></dt><dd>lon</dd><dt><span>fullnamepath :</span></dt><dd>/Grid/lon</dd></dl></div><div class='xr-var-data'><pre>array(103.65, dtype=float32)</pre></div></li></ul></div></li><li class='xr-section-item'><input id='section-e3a7d247-6e06-4452-92a2-f680a2a1d1d4' class='xr-section-summary-in' type='checkbox'  checked><label for='section-e3a7d247-6e06-4452-92a2-f680a2a1d1d4' class='xr-section-summary' >Data variables: <span>(1)</span></label><div class='xr-section-inline-details'></div><div class='xr-section-details'><ul class='xr-var-list'><li class='xr-var-item'><div class='xr-var-name'><span>precipitationCal</span></div><div class='xr-var-dims'>(time)</div><div class='xr-var-dtype'>float32</div><div class='xr-var-preview xr-preview'>5.601 0.6215 8.942 ... 12.4 0.9252</div><input id='attrs-65a90aa3-d658-40cb-98ba-dd2e56ed7be1' class='xr-var-attrs-in' type='checkbox' disabled><label for='attrs-65a90aa3-d658-40cb-98ba-dd2e56ed7be1' title='Show/Hide attributes'><svg class='icon xr-icon-file-text2'><use xlink:href='#icon-file-text2'></use></svg></label><input id='data-e3c9dc55-20ee-4df9-8f92-63e8d8c7bb64' class='xr-var-data-in' type='checkbox'><label for='data-e3c9dc55-20ee-4df9-8f92-63e8d8c7bb64' title='Show/Hide data repr'><svg class='icon xr-icon-database'><use xlink:href='#icon-database'></use></svg></label><div class='xr-var-attrs'><dl class='xr-attrs'></dl></div><div class='xr-var-data'><pre>array([5.60144663e+00, 6.21493459e-01, 8.94236946e+00, 1.18525820e+01,\n",
       "       2.87966180e+00, 1.93527365e+00, 4.02182865e+00, 1.01887167e-01,\n",
       "       6.04907274e-01, 2.86155605e+00, 0.00000000e+00, 1.89966580e-04,\n",
       "       1.57438195e-03, 6.88288271e-01, 0.00000000e+00, 0.00000000e+00,\n",
       "       1.95915508e+00, 6.27018356e+00, 9.56502247e+00, 3.59693527e+00,\n",
       "       2.28643570e+01, 4.67608490e+01, 0.00000000e+00, 0.00000000e+00,\n",
       "       0.00000000e+00, 0.00000000e+00, 2.14017916e+00, 0.00000000e+00,\n",
       "       1.26311898e-01, 7.12961480e-02, 0.00000000e+00, 0.00000000e+00,\n",
       "       0.00000000e+00, 0.00000000e+00, 0.00000000e+00, 7.23408651e+00,\n",
       "       1.15279675e-01, 4.77186367e-02, 0.00000000e+00, 3.58674698e+01,\n",
       "       2.12259829e-01, 0.00000000e+00, 0.00000000e+00, 0.00000000e+00,\n",
       "       0.00000000e+00, 2.44182186e+01, 1.20403385e+00, 8.05738568e-01,\n",
       "       1.91569214e+01, 2.68132424e+00, 6.50115371e-01, 3.56732941e+01,\n",
       "       0.00000000e+00, 0.00000000e+00, 0.00000000e+00, 0.00000000e+00,\n",
       "       2.07489181e+00, 0.00000000e+00, 0.00000000e+00, 1.02756131e+00,\n",
       "       1.32568610e+00, 0.00000000e+00, 0.00000000e+00, 0.00000000e+00,\n",
       "       0.00000000e+00, 0.00000000e+00, 3.70510912e+00, 4.33465195e+01,\n",
       "       2.53375950e+01, 9.37264204e-01, 4.11313934e+01, 5.35341549e+00,\n",
       "       1.49416351e+02, 3.46347351e+01, 1.31230431e+01, 0.00000000e+00,\n",
       "       2.52845440e+01, 5.66217194e+01, 4.51392403e+01, 4.33420181e+00,\n",
       "...\n",
       "       1.70213294e+00, 1.45202637e+00, 1.72016114e-01, 2.45509415e+01,\n",
       "       1.00334257e-01, 1.16790428e+01, 7.11098862e+00, 5.08941536e+01,\n",
       "       8.51131248e+00, 4.07290611e+01, 5.60994196e+00, 2.35692072e+00,\n",
       "       1.57674289e+00, 5.18017082e+01, 2.04953194e+01, 1.25950456e-01,\n",
       "       4.23567696e+01, 2.76063681e+00, 3.65122139e-01, 7.14643776e-01,\n",
       "       7.34179878e+00, 9.37671127e+01, 6.08639603e+01, 7.01136303e+00,\n",
       "       3.39780464e+01, 3.48460340e+00, 6.96488905e+00, 1.08565994e-01,\n",
       "       1.68559754e+00, 1.52278275e+02, 1.68774295e+00, 1.01903620e+01,\n",
       "       7.30617094e+00, 4.53963727e-02, 3.10844247e-04, 4.87242317e+00,\n",
       "       9.64086354e-01, 9.13965236e-03, 2.85394211e+01, 1.05610352e+01,\n",
       "       4.41849976e+01, 1.85512841e+00, 3.31001095e-02, 1.59566288e+01,\n",
       "       2.78708038e+01, 1.28525505e+01, 2.91141891e+00, 5.27593498e+01,\n",
       "       1.24475174e+01, 4.45414200e+01, 9.06953514e-01, 6.03385806e-01,\n",
       "       5.41683316e-01, 7.18467808e+00, 3.32215738e+00, 2.89915771e+01,\n",
       "       2.46494389e+00, 2.63004005e-01, 1.16468964e+01, 1.03622854e+00,\n",
       "       1.20177059e+01, 4.48635674e+00, 1.67308652e+00, 2.43351603e+00,\n",
       "       3.87880492e+00, 1.10340226e+00, 3.55905247e+00, 7.58648682e+00,\n",
       "       1.45262265e+00, 2.81873775e+00, 2.35663891e+01, 6.63846493e+00,\n",
       "       1.13468523e+01, 2.68526096e+01, 6.31036818e-01, 1.23954554e+01,\n",
       "       9.25190270e-01], dtype=float32)</pre></div></li></ul></div></li><li class='xr-section-item'><input id='section-ac1b8430-3902-4545-a473-36f92366cd13' class='xr-section-summary-in' type='checkbox' disabled ><label for='section-ac1b8430-3902-4545-a473-36f92366cd13' class='xr-section-summary'  title='Expand/collapse section'>Attributes: <span>(0)</span></label><div class='xr-section-inline-details'></div><div class='xr-section-details'><dl class='xr-attrs'></dl></div></li></ul></div></div>"
      ],
      "text/plain": [
       "<xarray.Dataset>\n",
       "Dimensions:           (time: 365)\n",
       "Coordinates:\n",
       "  * time              (time) datetime64[ns] 2010-01-01 2010-01-02 ... 2010-12-31\n",
       "    lat               float32 1.25\n",
       "    lon               float32 103.7\n",
       "Data variables:\n",
       "    precipitationCal  (time) float32 5.601 0.6215 8.942 ... 0.631 12.4 0.9252"
      ]
     },
     "execution_count": 9,
     "metadata": {},
     "output_type": "execute_result"
    }
   ],
   "source": [
    "gpm_sampled = gpm_dataset.sel(lon=103.68, lat=1.30, method='nearest').resample(time='1D').sum()\n",
    "gpm_sampled"
   ]
  },
  {
   "cell_type": "code",
   "execution_count": null,
   "metadata": {},
   "outputs": [],
   "source": []
  },
  {
   "cell_type": "markdown",
   "metadata": {},
   "source": [
    "* **PRAT**"
   ]
  },
  {
   "cell_type": "code",
   "execution_count": 10,
   "metadata": {},
   "outputs": [],
   "source": [
    "# append the timedelta in hours and minutes to get the full timestamp\n",
    "# Using day number to create the date\n",
    "\n",
    "prat_rainfall_df['date']=pd.to_datetime(prat_rainfall_df['day'], unit='D', origin=pd.Timestamp('2009-12-31')) \n",
    "\n",
    "prat_rainfall_df['timestamp'] = prat_rainfall_df['date'] + pd.to_timedelta(\n",
    "    prat_rainfall_df['hour'].astype('str') + ':' + \n",
    "    prat_rainfall_df['minute'].astype('str') + ':00'\n",
    ") \n",
    "prat_rainfall_df.set_index('timestamp', inplace=True)"
   ]
  },
  {
   "cell_type": "code",
   "execution_count": 11,
   "metadata": {},
   "outputs": [
    {
     "data": {
      "text/html": [
       "<div>\n",
       "<style scoped>\n",
       "    .dataframe tbody tr th:only-of-type {\n",
       "        vertical-align: middle;\n",
       "    }\n",
       "\n",
       "    .dataframe tbody tr th {\n",
       "        vertical-align: top;\n",
       "    }\n",
       "\n",
       "    .dataframe thead th {\n",
       "        text-align: right;\n",
       "    }\n",
       "</style>\n",
       "<table border=\"1\" class=\"dataframe\">\n",
       "  <thead>\n",
       "    <tr style=\"text-align: right;\">\n",
       "      <th></th>\n",
       "      <th>rainfall_rate</th>\n",
       "    </tr>\n",
       "    <tr>\n",
       "      <th>timestamp</th>\n",
       "      <th></th>\n",
       "    </tr>\n",
       "  </thead>\n",
       "  <tbody>\n",
       "    <tr>\n",
       "      <th>2010-01-01</th>\n",
       "      <td>18.0</td>\n",
       "    </tr>\n",
       "    <tr>\n",
       "      <th>2010-01-02</th>\n",
       "      <td>0.2</td>\n",
       "    </tr>\n",
       "    <tr>\n",
       "      <th>2010-01-03</th>\n",
       "      <td>0.2</td>\n",
       "    </tr>\n",
       "    <tr>\n",
       "      <th>2010-01-04</th>\n",
       "      <td>13.2</td>\n",
       "    </tr>\n",
       "    <tr>\n",
       "      <th>2010-01-05</th>\n",
       "      <td>0.0</td>\n",
       "    </tr>\n",
       "  </tbody>\n",
       "</table>\n",
       "</div>"
      ],
      "text/plain": [
       "            rainfall_rate\n",
       "timestamp                \n",
       "2010-01-01           18.0\n",
       "2010-01-02            0.2\n",
       "2010-01-03            0.2\n",
       "2010-01-04           13.2\n",
       "2010-01-05            0.0"
      ]
     },
     "execution_count": 11,
     "metadata": {},
     "output_type": "execute_result"
    }
   ],
   "source": [
    "prat_sampled_df = pd.DataFrame()\n",
    "prat_rainfall_df['rainfall_rate'] = prat_rainfall_df['rainfall_rate']/60.0 # mm / 60\n",
    "\n",
    "# Groupby MONTH and then taking the total daily sum\n",
    "prat_sampled_df = prat_rainfall_df.resample('D').sum() \n",
    "\n",
    "prat_sampled_df.drop(['day', 'hour', 'minute'], axis=1, inplace=True) # Dropped the day, hour, minute columns\n",
    "prat_sampled_df.head() # PRAT Data after resampling"
   ]
  },
  {
   "cell_type": "code",
   "execution_count": null,
   "metadata": {},
   "outputs": [],
   "source": []
  },
  {
   "cell_type": "markdown",
   "metadata": {},
   "source": [
    "# Separate Monsoon Rainfall\n",
    "---\n",
    "According to [this](https://www.guidemesingapore.com/business-guides/immigration/get-to-know-singapore/weather-and-climate-in-singapore),\n",
    "There is no clear-cut wet or dry season and rain is experienced every single month, usually in the afternoons and early evenings. However, there are two main monsoon seasons in Singapore: **Northeast Monsoon Season (December-March) and the Southwest Monsoon Season (June-September)**.\n",
    "\n",
    "* Extract Monsoon Data"
   ]
  },
  {
   "cell_type": "code",
   "execution_count": 12,
   "metadata": {},
   "outputs": [],
   "source": [
    "JUNE = 6\n",
    "SEPT = 9\n",
    "monsoon_prat = prat_sampled_df[(prat_sampled_df.index.month >= JUNE) & \n",
    "                               (prat_sampled_df.index.month <= SEPT)]\n",
    "\n",
    "monsoon_gauge = gauge_station_df[(gauge_station_df.index.month >= JUNE) & \n",
    "                                 (gauge_station_df.index.month <= SEPT)]\n",
    "\n",
    "monsoon_gauge = monsoon_gauge.sort_index(axis=0)\n",
    "monsoon_gpm = gpm_sampled.sel(time=slice('2010-06-01','2010-09-30'))"
   ]
  },
  {
   "cell_type": "markdown",
   "metadata": {},
   "source": [
    "- Extract Non-Monsoon data"
   ]
  },
  {
   "cell_type": "code",
   "execution_count": 13,
   "metadata": {},
   "outputs": [],
   "source": [
    "non_monsoon_prat = prat_sampled_df[(prat_sampled_df.index.month < JUNE) | \n",
    "                               (prat_sampled_df.index.month > SEPT)]\n",
    "\n",
    "non_monsoon_gauge = gauge_station_df[(gauge_station_df.index.month < JUNE) | \n",
    "                                 (gauge_station_df.index.month > SEPT)]\n",
    "non_monsoon_gauge = non_monsoon_gauge.sort_index(axis=0)\n",
    "\n",
    "non_monsoon_gpm = gpm_sampled.sel(time=slice('2010-01-01','2010-05-31'))\n",
    "non_monsoon_gpm = non_monsoon_gpm.merge(gpm_sampled.sel(time=slice('2010-10-01','2010-12-31')))\n",
    "non_monsoon_gpm\n",
    "\n",
    "non_monsoon_chirps = chirps_dataset.sel(time=slice('2010-01-01','2010-05-31'), \n",
    "                                    longitude=103.67499, latitude=1.324997)\n",
    "non_monsoon_chirps = non_monsoon_chirps.merge(chirps_dataset.sel(time=slice('2010-10-01','2010-12-31'), \n",
    "                                    longitude=103.67499, latitude=1.324997))"
   ]
  },
  {
   "cell_type": "markdown",
   "metadata": {},
   "source": [
    "- Combine Monsoon and Non-monsoon DF for full year."
   ]
  },
  {
   "cell_type": "code",
   "execution_count": 14,
   "metadata": {},
   "outputs": [],
   "source": [
    "full_gpm = gpm_sampled.sel(time=slice('2010-01-01','2010-12-31'))\n",
    "full_chirps = chirps_dataset.sel(time=slice('2010-01-01','2010-12-31'), \n",
    "                                    longitude=103.67499, latitude=1.324997)\n",
    "full_gauge = gauge_station_df.sort_index(axis=0)\n",
    "full_prat = prat_sampled_df"
   ]
  },
  {
   "cell_type": "markdown",
   "metadata": {},
   "source": [
    "* Plot the data (Monsoon Season)"
   ]
  },
  {
   "cell_type": "code",
   "execution_count": 16,
   "metadata": {
    "scrolled": true
   },
   "outputs": [
    {
     "data": {
      "image/png": "[encoded data removed]",
      "text/plain": [
       "<Figure size 1152x360 with 1 Axes>"
      ]
     },
     "metadata": {},
     "output_type": "display_data"
    }
   ],
   "source": [
    "plt.plot(monsoon_gauge['rainfall_rate'], linewidth=2, label='Public Gauge Station', c='#984ea3')\n",
    "plt.plot(monsoon_chirps['time'], monsoon_chirps['precip'], label='CHIRPS', linewidth=2, c='#4daf4a')\n",
    "plt.plot(monsoon_gpm['time'], monsoon_gpm['precipitationCal'], linewidth=2, label=\"GPM\", c='#377eb8')\n",
    "plt.plot(monsoon_prat['rainfall_rate'], label='PRAT', c='#e41a1c')\n",
    "plt.title('Rainfall for Monsoon Season (June-Sept), 2010', loc='left', fontsize=15)\n",
    "plt.ylabel(\"Rainfall in mm/hr\", fontsize=15)\n",
    "ax = plt.gca()\n",
    "locator = mdates.MonthLocator()\n",
    "month_fmt = mdates.DateFormatter('%b')\n",
    "ax.xaxis.set_major_locator(locator)\n",
    "ax.xaxis.set_major_formatter(month_fmt)\n",
    "ax.xaxis.label.set_size(50)\n",
    "plt.legend(loc='upper right', ncol=4, prop={'size': 12}, fontsize=16)\n",
    "plt.xticks(fontsize=15)\n",
    "plt.yticks(fontsize=15);\n",
    "# plt.savefig('Figures/monsoon_full.pdf')"
   ]
  },
  {
   "cell_type": "markdown",
   "metadata": {},
   "source": [
    "- Plot the data (Non-Monsoon Season)"
   ]
  },
  {
   "cell_type": "code",
   "execution_count": 17,
   "metadata": {
    "scrolled": true
   },
   "outputs": [
    {
     "data": {
      "image/png": "[encoded data removed]",
      "text/plain": [
       "<Figure size 1152x360 with 1 Axes>"
      ]
     },
     "metadata": {},
     "output_type": "display_data"
    }
   ],
   "source": [
    "plt.plot(non_monsoon_gauge['rainfall_rate'], linewidth=2, label='Public Gauge Station', c='#984ea3')\n",
    "plt.plot(non_monsoon_chirps['time'], non_monsoon_chirps['precip'], label='CHIRPS', linewidth=2, c='#4daf4a')\n",
    "plt.plot(non_monsoon_gpm['time'], non_monsoon_gpm['precipitationCal'], linewidth=2, label=\"GPM\", c='#377eb8')\n",
    "plt.plot(non_monsoon_prat['rainfall_rate'], label='PRAT', c='#e41a1c')\n",
    "plt.title('Rainfall for Non-Monsoon Season (Jan-May, Oct-Dec), 2010', loc='left', fontsize=17)\n",
    "plt.ylabel(\"Rainfall in mm/hr\", fontsize=15)\n",
    "ax = plt.gca()\n",
    "locator = mdates.MonthLocator()\n",
    "month_fmt = mdates.DateFormatter('%b')\n",
    "ax.xaxis.set_major_locator(locator)\n",
    "ax.xaxis.set_major_formatter(month_fmt)\n",
    "plt.legend(loc='upper right', ncol=4, prop={'size': 12}, fontsize=16);\n",
    "# plt.savefig('Figures/non_monsoon_full.pdf')"
   ]
  },
  {
   "cell_type": "markdown",
   "metadata": {},
   "source": [
    "* Distribution Plot"
   ]
  },
  {
   "cell_type": "code",
   "execution_count": 19,
   "metadata": {
    "scrolled": true
   },
   "outputs": [
    {
     "name": "stderr",
     "output_type": "stream",
     "text": [
      "/Users/dhirajsaharia/miniconda3/lib/python3.7/site-packages/seaborn/distributions.py:2557: FutureWarning: `distplot` is a deprecated function and will be removed in a future version. Please adapt your code to use either `displot` (a figure-level function with similar flexibility) or `histplot` (an axes-level function for histograms).\n",
      "  warnings.warn(msg, FutureWarning)\n",
      "/Users/dhirajsaharia/miniconda3/lib/python3.7/site-packages/seaborn/distributions.py:2557: FutureWarning: `distplot` is a deprecated function and will be removed in a future version. Please adapt your code to use either `displot` (a figure-level function with similar flexibility) or `histplot` (an axes-level function for histograms).\n",
      "  warnings.warn(msg, FutureWarning)\n",
      "/Users/dhirajsaharia/miniconda3/lib/python3.7/site-packages/seaborn/distributions.py:2557: FutureWarning: `distplot` is a deprecated function and will be removed in a future version. Please adapt your code to use either `displot` (a figure-level function with similar flexibility) or `histplot` (an axes-level function for histograms).\n",
      "  warnings.warn(msg, FutureWarning)\n",
      "/Users/dhirajsaharia/miniconda3/lib/python3.7/site-packages/seaborn/distributions.py:2557: FutureWarning: `distplot` is a deprecated function and will be removed in a future version. Please adapt your code to use either `displot` (a figure-level function with similar flexibility) or `histplot` (an axes-level function for histograms).\n",
      "  warnings.warn(msg, FutureWarning)\n"
     ]
    },
    {
     "data": {
      "image/png": "[encoded data removed]",
      "text/plain": [
       "<Figure size 1152x360 with 1 Axes>"
      ]
     },
     "metadata": {},
     "output_type": "display_data"
    }
   ],
   "source": [
    "sns.distplot(monsoon_gauge['rainfall_rate'], hist=True, kde=True, label='Public Gauge Station', color='#984ea3')\n",
    "sns.distplot(monsoon_chirps['precip'], hist=True, kde=True, label='CHIRPS', color='#4daf4a')\n",
    "sns.distplot(monsoon_gpm['precipitationCal'], hist=True, kde=True, label='GPM', color='#377eb8')\n",
    "sns.distplot(monsoon_prat['rainfall_rate'], hist=True, kde=True, label='PRAT', color='#e41a1c')\n",
    "plt.legend(fontsize=15, ncol=4)\n",
    "plt.title('Monsoon Season Distribution Plot, 2010', loc=\"left\", )\n",
    "plt.xlabel(\"Rainfall\", fontsize=15)\n",
    "plt.xticks(fontsize=15)\n",
    "plt.yticks(fontsize=15);\n",
    "#plt.savefig('Figures/monsoon_distribution.pdf');"
   ]
  },
  {
   "cell_type": "markdown",
   "metadata": {},
   "source": [
    "# Correlation Calculation\n",
    "---\n",
    "## Pearson Coefficient (PCC)"
   ]
  },
  {
   "cell_type": "code",
   "execution_count": 29,
   "metadata": {},
   "outputs": [],
   "source": [
    "def print_pcc(a, b, name_a, name_b):\n",
    "    \"\"\"\n",
    "    This funciton takes two Series, computes and displays the PCC value.\n",
    "    \"\"\"\n",
    "    pcc = round(a.corr(b), 2)\n",
    "    print(f\"PCC of {name_a} with {name_b}: {pcc}\")"
   ]
  },
  {
   "cell_type": "code",
   "execution_count": 30,
   "metadata": {},
   "outputs": [
    {
     "name": "stdout",
     "output_type": "stream",
     "text": [
      "====== PRAT Vs Other =====\n",
      "---- Monsoon Season PCC ----\n",
      "PCC of PRAT with GAUGE: 0.62\n",
      "PCC of PRAT with GPM: 0.59\n",
      "PCC of PRAT with CHIRPS: 0.27\n",
      "---- Non-Monsoon Season PCC ----\n",
      "PCC of PRAT with GAUGE: 0.47\n",
      "PCC of PRAT with GPM: 0.21\n",
      "PCC of PRAT with CHIRPS: 0.11\n",
      "---- Full Year PCC ----\n",
      "PCC of PRAT with GAUGE: 0.54\n",
      "PCC of PRAT with GPM: 0.41\n",
      "PCC of PRAT with CHIRPS: 0.18\n"
     ]
    }
   ],
   "source": [
    "print(\"====== PRAT Vs Other =====\")\n",
    "print(\"---- Monsoon Season PCC ----\")\n",
    "print_pcc(monsoon_prat['rainfall_rate'], monsoon_gauge['rainfall_rate'], \"PRAT\", \"GAUGE\")\n",
    "print_pcc(monsoon_prat['rainfall_rate'], monsoon_gpm['precipitationCal'].to_series(), \"PRAT\", \"GPM\")\n",
    "print_pcc(monsoon_prat['rainfall_rate'], monsoon_chirps['precip'].to_series(), \"PRAT\", \"CHIRPS\")\n",
    "print(\"---- Non-Monsoon Season PCC ----\")\n",
    "print_pcc(non_monsoon_prat['rainfall_rate'], non_monsoon_gauge['rainfall_rate'], \"PRAT\", \"GAUGE\")\n",
    "print_pcc(non_monsoon_prat['rainfall_rate'], non_monsoon_gpm['precipitationCal'].to_series(), \"PRAT\", \"GPM\")\n",
    "print_pcc(non_monsoon_prat['rainfall_rate'], non_monsoon_chirps['precip'].to_series(), \"PRAT\", \"CHIRPS\")\n",
    "print(\"---- Full Year PCC ----\")\n",
    "print_pcc(full_prat['rainfall_rate'], full_gauge['rainfall_rate'], \"PRAT\", \"GAUGE\")\n",
    "print_pcc(full_prat['rainfall_rate'], full_gpm['precipitationCal'].to_series(), \"PRAT\", \"GPM\")\n",
    "print_pcc(full_prat['rainfall_rate'], full_chirps['precip'].to_series(), \"PRAT\", \"CHIRPS\")"
   ]
  },
  {
   "cell_type": "code",
   "execution_count": 31,
   "metadata": {},
   "outputs": [
    {
     "name": "stdout",
     "output_type": "stream",
     "text": [
      "====== GAUGE Vs Other =====\n",
      "---- Monsoon Season PCC ----\n",
      "PCC of GAUGE with PRAT: 0.62\n",
      "PCC of GAUGE with GPM: 0.54\n",
      "PCC of GAUGE with CHIRPS: 0.23\n",
      "---- Non-Monsoon Season PCC ----\n",
      "PCC of GAUGE with PRAT: 0.47\n",
      "PCC of GAUGE with GPM: 0.44\n",
      "PCC of GAUGE with CHIRPS: 0.25\n",
      "---- Full Year PCC ----\n",
      "PCC of GAUGE with PRAT: 0.54\n",
      "PCC of GAUGE with GPM: 0.5\n",
      "PCC of GAUGE with CHIRPS: 0.25\n"
     ]
    }
   ],
   "source": [
    "print(\"====== GAUGE Vs Other =====\")\n",
    "print(\"---- Monsoon Season PCC ----\")\n",
    "print_pcc(monsoon_gauge['rainfall_rate'], monsoon_prat['rainfall_rate'], \"GAUGE\", \"PRAT\")\n",
    "print_pcc(monsoon_gauge['rainfall_rate'], monsoon_gpm['precipitationCal'].to_series(), \"GAUGE\", \"GPM\")\n",
    "print_pcc(monsoon_gauge['rainfall_rate'], monsoon_chirps['precip'].to_series(), \"GAUGE\", \"CHIRPS\")\n",
    "print(\"---- Non-Monsoon Season PCC ----\")\n",
    "print_pcc(non_monsoon_gauge['rainfall_rate'], non_monsoon_prat['rainfall_rate'], \"GAUGE\", \"PRAT\")\n",
    "print_pcc(non_monsoon_gauge['rainfall_rate'], non_monsoon_gpm['precipitationCal'].to_series(), \"GAUGE\", \"GPM\")\n",
    "print_pcc(non_monsoon_gauge['rainfall_rate'], non_monsoon_chirps['precip'].to_series(), \"GAUGE\", \"CHIRPS\")\n",
    "print(\"---- Full Year PCC ----\")\n",
    "print_pcc(full_gauge['rainfall_rate'], full_prat['rainfall_rate'], \"GAUGE\", \"PRAT\")\n",
    "print_pcc(full_gauge['rainfall_rate'], full_gpm['precipitationCal'].to_series(), \"GAUGE\", \"GPM\")\n",
    "print_pcc(full_gauge['rainfall_rate'], full_chirps['precip'].to_series(), \"GAUGE\", \"CHIRPS\")"
   ]
  },
  {
   "cell_type": "code",
   "execution_count": 32,
   "metadata": {},
   "outputs": [
    {
     "name": "stdout",
     "output_type": "stream",
     "text": [
      "====== CHIRPS Vs Other =====\n",
      "---- Monsoon Season PCC ----\n",
      "PCC of CHIRPS with PRAT: 0.27\n",
      "PCC of CHIRPS with GPM: 0.43\n",
      "PCC of CHIRPS with GAUGE: 0.23\n",
      "---- Non-Monsoon Season PCC ----\n",
      "PCC of CHIRPS with PRAT: 0.11\n",
      "PCC of CHIRPS with GPM: 0.51\n",
      "PCC of CHIRPS with GAUGE: 0.25\n",
      "---- Full Year PCC ----\n",
      "PCC of CHIRPS with PRAT: 0.18\n",
      "PCC of CHIRPS with GPM: 0.47\n",
      "PCC of CHIRPS with GAUGE: 0.25\n"
     ]
    }
   ],
   "source": [
    "print(\"====== CHIRPS Vs Other =====\")\n",
    "print(\"---- Monsoon Season PCC ----\")\n",
    "print_pcc(monsoon_chirps['precip'].to_series(), monsoon_prat['rainfall_rate'], \"CHIRPS\", \"PRAT\")\n",
    "print_pcc(monsoon_chirps['precip'].to_series(), monsoon_gpm['precipitationCal'].to_series(), \"CHIRPS\", \"GPM\")\n",
    "print_pcc(monsoon_chirps['precip'].to_series(), monsoon_gauge['rainfall_rate'], \"CHIRPS\", \"GAUGE\")\n",
    "print(\"---- Non-Monsoon Season PCC ----\")\n",
    "print_pcc(non_monsoon_chirps['precip'].to_series(), non_monsoon_prat['rainfall_rate'], \"CHIRPS\", \"PRAT\")\n",
    "print_pcc(non_monsoon_chirps['precip'].to_series(), non_monsoon_gpm['precipitationCal'].to_series(), \"CHIRPS\", \"GPM\")\n",
    "print_pcc(non_monsoon_chirps['precip'].to_series(), non_monsoon_gauge['rainfall_rate'], \"CHIRPS\", \"GAUGE\")\n",
    "print(\"---- Full Year PCC ----\")\n",
    "print_pcc(full_chirps['precip'].to_series(), full_prat['rainfall_rate'], \"CHIRPS\", \"PRAT\")\n",
    "print_pcc(full_chirps['precip'].to_series(), full_gpm['precipitationCal'].to_series(), \"CHIRPS\", \"GPM\")\n",
    "print_pcc(full_chirps['precip'].to_series(), full_gauge['rainfall_rate'], \"CHIRPS\", \"GAUGE\")"
   ]
  },
  {
   "cell_type": "code",
   "execution_count": 33,
   "metadata": {},
   "outputs": [
    {
     "name": "stdout",
     "output_type": "stream",
     "text": [
      "====== GPM Vs Other =====\n",
      "---- Monsoon Season PCC ----\n",
      "PCC of GPM with PRAT: 0.59\n",
      "PCC of GPM with CHIRPS: 0.43\n",
      "PCC of GPM with GAUGE: 0.54\n",
      "---- Non-Monsoon Season PCC ----\n",
      "PCC of GPM with PRAT: 0.21\n",
      "PCC of GPM with CHIRPS: 0.51\n",
      "PCC of GPM with GAUGE: 0.44\n",
      "---- Full Year PCC ----\n",
      "PCC of GPM with PRAT: 0.41\n",
      "PCC of GPM with CHIRPS: 0.47\n",
      "PCC of GPM with GAUGE: 0.5\n"
     ]
    }
   ],
   "source": [
    "print(\"====== GPM Vs Other =====\")\n",
    "print(\"---- Monsoon Season PCC ----\")\n",
    "print_pcc(monsoon_gpm['precipitationCal'].to_series(), monsoon_prat['rainfall_rate'], \"GPM\", \"PRAT\")\n",
    "print_pcc(monsoon_gpm['precipitationCal'].to_series(), monsoon_chirps['precip'].to_series(), \"GPM\", \"CHIRPS\")\n",
    "print_pcc(monsoon_gpm['precipitationCal'].to_series(), monsoon_gauge['rainfall_rate'], \"GPM\", \"GAUGE\")\n",
    "print(\"---- Non-Monsoon Season PCC ----\")\n",
    "print_pcc(non_monsoon_gpm['precipitationCal'].to_series(), non_monsoon_prat['rainfall_rate'], \"GPM\", \"PRAT\")\n",
    "print_pcc(non_monsoon_gpm['precipitationCal'].to_series(), non_monsoon_chirps['precip'].to_series(), \"GPM\", \"CHIRPS\")\n",
    "print_pcc(non_monsoon_gpm['precipitationCal'].to_series(), non_monsoon_gauge['rainfall_rate'], \"GPM\", \"GAUGE\")\n",
    "print(\"---- Full Year PCC ----\")\n",
    "print_pcc(full_gpm['precipitationCal'].to_series(), full_prat['rainfall_rate'], \"GPM\", \"PRAT\")\n",
    "print_pcc(full_gpm['precipitationCal'].to_series(), full_chirps['precip'].to_series(), \"GPM\", \"CHIRPS\")\n",
    "print_pcc(full_gpm['precipitationCal'].to_series(), full_gauge['rainfall_rate'], \"GPM\", \"GAUGE\")"
   ]
  },
  {
   "cell_type": "markdown",
   "metadata": {},
   "source": [
    "## Kling-Gupta Efficiency\n",
    "\n",
    "In the computation of this index, there are three main components involved:\n",
    "\n",
    "1) r : the Pearson product-moment correlation coefficient. Ideal value is r=1\n",
    "\n",
    "2) Beta : the ratio between the mean of the simulated values and the mean of the observed ones. Ideal value is Beta=1\n",
    "\n",
    "3) vr : variability ratio, which could be computed using the standard deviation (Alpha) or the coefficient of variation (Gamma) of sim and obs, depending on the value of method\n",
    "\n",
    "3.1) Alpha: the ratio between the standard deviation of the simulated values and the standard deviation of the observed ones. Ideal value is Alpha=1.\n",
    "\n",
    "3.2) Gamma: the ratio between the coefficient of variation (CV) of the simulated values to the coefficient of variation of the observed ones. Ideal value is Gamma=1. "
   ]
  },
  {
   "cell_type": "code",
   "execution_count": null,
   "metadata": {},
   "outputs": [],
   "source": [
    "def kge(simulated, observed):\n",
    "    cc = np.corrcoef(simulated, observed)[0, 1]\n",
    "    alpha = np.std(observed) / np.std(simulated)\n",
    "    beta = np.sum(observed) / np.sum(simulated)\n",
    "    kge = 1 - np.sqrt((cc - 1)**2 + (alpha - 1)**2 + (beta - 1)**2)\n",
    "    return kge"
   ]
  },
  {
   "cell_type": "code",
   "execution_count": null,
   "metadata": {},
   "outputs": [],
   "source": [
    "kge_gauge_monsoon = kge(monsoon_gauge['rainfall_rate'], monsoon_prat['rainfall_rate'])\n",
    "kge_chirps_monsoon = kge(monsoon_chirps['precip'].to_series(), monsoon_prat['rainfall_rate'])\n",
    "kge_gpm_monsoon = kge(monsoon_gpm['precipitationCal'].to_series(), monsoon_prat['rainfall_rate'])\n",
    "print(\"--- Monsoon Season ---\")\n",
    "print(f\"KGE Scores of PRAT with \\n Gauge : {kge_gauge_monsoon} \\n CHIRPS : {kge_chirps_monsoon} \\n GPM : {kge_gpm_monsoon}\")"
   ]
  },
  {
   "cell_type": "code",
   "execution_count": null,
   "metadata": {},
   "outputs": [],
   "source": [
    "print(\"--- Non-Monsoon Season ---\")\n",
    "kge_gauge_non = kge(non_monsoon_gauge['rainfall_rate'], non_monsoon_prat['rainfall_rate'])\n",
    "kge_chirps_non = kge(non_monsoon_chirps['precip'].to_series(), non_monsoon_prat['rainfall_rate'])\n",
    "kge_gpm_non = kge(non_monsoon_gpm['precipitationCal'].to_series(), non_monsoon_prat['rainfall_rate'])\n",
    "print(f\"KGE Scores of PRAT with \\n Gauge : {kge_gauge_non} \\n CHIRPS : {kge_chirps_non} \\n GPM : {kge_gpm_non}\")"
   ]
  },
  {
   "cell_type": "code",
   "execution_count": null,
   "metadata": {},
   "outputs": [],
   "source": [
    "print(\"--- Yearly ---\")\n",
    "kge_gauge_full = kge(full_gauge['rainfall_rate'], full_prat['rainfall_rate'])\n",
    "kge_chirps_full = kge(full_chirps['precip'].to_series(), full_prat['rainfall_rate'])\n",
    "kge_gpm_full = kge(full_gpm['precipitationCal'].to_series(), full_prat['rainfall_rate'])\n",
    "print(f\"KGE Scores of PRAT with \\n Gauge : {kge_gauge_full} \\n CHIRPS : {kge_chirps_full} \\n GPM : {kge_gpm_full}\")"
   ]
  },
  {
   "cell_type": "code",
   "execution_count": null,
   "metadata": {},
   "outputs": [],
   "source": []
  },
  {
   "cell_type": "markdown",
   "metadata": {},
   "source": [
    "* Monthly Correlation values for whole year\n",
    "\n",
    "Calculate the monsoon and non-monsoon correlation values, then merge them to form the year correlation value set.\n",
    "### Note -\n",
    "When plotting the bar graph for the correlation values, a bug was identified when the x-axis month labels were miscategorized, i.e the `Jan` tick went to the last bar. This was asked on StackOverflow [Here](https://stackoverflow.com/questions/63307864/why-month-x-ticks-are-labelled-wrongly-in-a-datetime-index/63313146#63313146). The cause was since the month dates were closer to the next months dates, so the bar graph was overlaying it. The solution was to modify the datetime index."
   ]
  },
  {
   "cell_type": "code",
   "execution_count": null,
   "metadata": {
    "scrolled": true
   },
   "outputs": [],
   "source": [
    "monsoon_corr = pd.merge(\n",
    "    monsoon_prat, monsoon_gauge, \n",
    "    on='timestamp'\n",
    ").resample('1M')[['rainfall_rate_x', 'rainfall_rate_y']].corr().groupby(level=0).first()\n",
    "monsoon_corr.drop('rainfall_rate_x', axis=1, inplace=True)\n",
    "non_monsoon_corr = pd.merge(\n",
    "    non_monsoon_prat, \n",
    "    non_monsoon_gauge, \n",
    "    on='timestamp'\n",
    ").resample('1M')[['rainfall_rate_x', 'rainfall_rate_y']].corr().groupby(level=0).first()\n",
    "non_monsoon_corr.drop(\n",
    "    [pd.to_datetime('2010-06-30'), pd.to_datetime('2010-07-31'), \n",
    "     pd.to_datetime('2010-08-31'), pd.to_datetime('2010-09-30')], inplace=True\n",
    ")\n",
    "non_monsoon_corr.drop('rainfall_rate_x', axis=1, inplace=True)\n",
    "full_corr = pd.concat([non_monsoon_corr, monsoon_corr])\n",
    "full_corr.sort_index(axis=0, inplace=True)\n",
    "full_corr.rename(columns={'rainfall_rate_y':'corr'}, inplace=True)\n",
    "# Creating a new index using the month and year only.\n",
    "full_corr['new_timestamp'] = full_corr.index.map(lambda x: datetime.datetime.strftime(x, '%Y-%m'))\n",
    "full_corr['new_timestamp'] = pd.to_datetime(full_corr['new_timestamp'])\n",
    "# Setting this as the new index\n",
    "full_corr.set_index('new_timestamp', inplace=True)\n",
    "# Plot\n",
    "plt.bar(full_corr.index, full_corr['corr'], width=12) # some bugs are there\n",
    "plt.title(\"Pearson Correlation Coefficient (PCC) of PRAT with Gauge Station, 2010\", loc=\"left\", fontsize=15)\n",
    "plt.ylabel(\"PCC value\", fontsize=15)\n",
    "ax = plt.gca()\n",
    "locator = mdates.MonthLocator()\n",
    "month_fmt = mdates.DateFormatter('%b')\n",
    "ax.xaxis.set_major_locator(locator)\n",
    "ax.xaxis.set_major_formatter(month_fmt)\n",
    "plt.xticks(fontsize=15)\n",
    "plt.yticks(fontsize=15);\n",
    "# plt.savefig('Figures/year_PCC.pdf');"
   ]
  },
  {
   "cell_type": "code",
   "execution_count": null,
   "metadata": {},
   "outputs": [],
   "source": [
    "full_corr"
   ]
  },
  {
   "cell_type": "markdown",
   "metadata": {},
   "source": [
    "## Error Metrics Calculation - MSE and RMSE"
   ]
  },
  {
   "cell_type": "code",
   "execution_count": 17,
   "metadata": {},
   "outputs": [],
   "source": [
    "def print_mse_rmse(a, b, c, d):\n",
    "    \"\"\"\n",
    "    This function\n",
    "    \"\"\"\n",
    "    mse_b = mean_squared_error(a, b)\n",
    "    mse_c = mean_squared_error(a, c)\n",
    "    mse_d = mean_squared_error(a, d)\n",
    "    \n",
    "    rmse_b = mean_squared_error(a, b, squared=False)\n",
    "    rmse_c = mean_squared_error(a, c, squared=False)\n",
    "    rmse_d = mean_squared_error(a, d, squared=False)\n",
    "    \n",
    "    print(f\"{'MSE - ':>7s}{mse_b:>7.2f}{' '*3}{mse_c:>7.2f}{' '*3}{mse_d:>7.2f}\")\n",
    "    print(f\"{'RMSE - ':>7s}{rmse_b:>7.2f}{' '*3}{rmse_c:>7.2f}{' '*3}{rmse_d:>7.2f}\")"
   ]
  },
  {
   "cell_type": "code",
   "execution_count": 53,
   "metadata": {},
   "outputs": [],
   "source": [
    "# mse_gauge_monsoon = mean_squared_error(monsoon_prat['rainfall_rate'], monsoon_gauge['rainfall_rate'])\n",
    "# mse_chirps_monsoon = mean_squared_error(monsoon_prat['rainfall_rate'], monsoon_chirps['precip'])\n",
    "# mse_gpm_monsoon = mean_squared_error(monsoon_prat['rainfall_rate'], monsoon_gpm['precipitationCal'])\n",
    "\n",
    "# rmse_gauge_monsoon = mean_squared_error(monsoon_prat['rainfall_rate'], monsoon_gauge['rainfall_rate'], squared=False)\n",
    "# rmse_chirps_monsoon = mean_squared_error(monsoon_prat['rainfall_rate'], monsoon_chirps['precip'], squared=False)\n",
    "# rmse_gpm_monsoon = mean_squared_error(monsoon_prat['rainfall_rate'], monsoon_gpm['precipitationCal'], squared=False)\n",
    "\n",
    "# mse_gauge_non = mean_squared_error(non_monsoon_prat['rainfall_rate'], non_monsoon_gauge['rainfall_rate'])\n",
    "# mse_chirps_non = mean_squared_error(non_monsoon_prat['rainfall_rate'], non_monsoon_chirps['precip'])\n",
    "# mse_gpm_non = mean_squared_error(non_monsoon_prat['rainfall_rate'], non_monsoon_gpm['precipitationCal'])\n",
    "\n",
    "# rmse_gauge_non = mean_squared_error(non_monsoon_prat['rainfall_rate'], non_monsoon_gauge['rainfall_rate'], squared=False)\n",
    "# rmse_chirps_non = mean_squared_error(non_monsoon_prat['rainfall_rate'], non_monsoon_chirps['precip'], squared=False)\n",
    "# rmse_gpm_non = mean_squared_error(non_monsoon_prat['rainfall_rate'], non_monsoon_gpm['precipitationCal'], squared=False)"
   ]
  },
  {
   "cell_type": "code",
   "execution_count": 18,
   "metadata": {},
   "outputs": [
    {
     "name": "stdout",
     "output_type": "stream",
     "text": [
      "===== PRAT Vs OTHER =====\n",
      "--- Monsoon Season ---\n",
      "         GAUGE    CHIRPS       GPM\n",
      " MSE -  212.27    160.23   1040.85\n",
      "RMSE -   14.57     12.66     32.26\n",
      "--- Non-Monsoon Season ---\n",
      " MSE -  157.00    130.78    566.58\n",
      "RMSE -   12.53     11.44     23.80\n"
     ]
    }
   ],
   "source": [
    "print(\"===== PRAT Vs OTHER =====\")\n",
    "print(\"--- Monsoon Season ---\")\n",
    "print(f\"{' ':>7s}{'GAUGE':>7s}{' '*3}{'CHIRPS':>7s}{' '*3}{'GPM':>7s}\")\n",
    "print_mse_rmse(monsoon_prat['rainfall_rate'], monsoon_gauge['rainfall_rate'], \n",
    "               monsoon_chirps['precip'], monsoon_gpm['precipitationCal'])\n",
    "print(\"--- Non-Monsoon Season ---\")\n",
    "print_mse_rmse(non_monsoon_prat['rainfall_rate'], non_monsoon_gauge['rainfall_rate'], \n",
    "               non_monsoon_chirps['precip'], non_monsoon_gpm['precipitationCal'])"
   ]
  },
  {
   "cell_type": "code",
   "execution_count": 19,
   "metadata": {},
   "outputs": [
    {
     "name": "stdout",
     "output_type": "stream",
     "text": [
      "===== GAUGE Vs OTHER =====\n",
      "--- Monsoon Season ---\n",
      "          PRAT    CHIRPS       GPM\n",
      " MSE -  212.27    336.02    988.58\n",
      "RMSE -   14.57     18.33     31.44\n",
      "--- Non - Monsoon Season ---\n",
      " MSE -  157.00    184.92    452.07\n",
      "RMSE -   12.53     13.60     21.26\n"
     ]
    }
   ],
   "source": [
    "print(\"===== GAUGE Vs OTHER =====\")\n",
    "print(\"--- Monsoon Season ---\")\n",
    "print(f\"{' ':>7s}{'PRAT':>7s}{' '*3}{'CHIRPS':>7s}{' '*3}{'GPM':>7s}\")\n",
    "print_mse_rmse(monsoon_gauge['rainfall_rate'], monsoon_prat['rainfall_rate'], \n",
    "               monsoon_chirps['precip'], monsoon_gpm['precipitationCal'])\n",
    "print(\"--- Non - Monsoon Season ---\")\n",
    "print_mse_rmse(non_monsoon_gauge['rainfall_rate'], non_monsoon_prat['rainfall_rate'], \n",
    "               non_monsoon_chirps['precip'], non_monsoon_gpm['precipitationCal'])"
   ]
  },
  {
   "cell_type": "code",
   "execution_count": 20,
   "metadata": {},
   "outputs": [
    {
     "name": "stdout",
     "output_type": "stream",
     "text": [
      "===== CHIRPS Vs OTHER =====\n",
      "--- Monsoon Season ---\n",
      "          PRAT     GAUGE       GPM\n",
      " MSE -  160.23    336.02   1267.98\n",
      "RMSE -   12.66     18.33     35.61\n",
      "--- Non - Monsoon Season ---\n",
      " MSE -  130.78    184.92    441.86\n",
      "RMSE -   11.44     13.60     21.02\n"
     ]
    }
   ],
   "source": [
    "print(\"===== CHIRPS Vs OTHER =====\")\n",
    "print(\"--- Monsoon Season ---\")\n",
    "print(f\"{' ':>7s}{'PRAT':>7s}{' '*3}{'GAUGE':>7s}{' '*3}{'GPM':>7s}\")\n",
    "print_mse_rmse(monsoon_chirps['precip'], monsoon_prat['rainfall_rate'], monsoon_gauge['rainfall_rate'],\n",
    "               monsoon_gpm['precipitationCal'])\n",
    "print(\"--- Non - Monsoon Season ---\")\n",
    "print_mse_rmse(non_monsoon_chirps['precip'], non_monsoon_prat['rainfall_rate'], non_monsoon_gauge['rainfall_rate'],\n",
    "               non_monsoon_gpm['precipitationCal'])"
   ]
  },
  {
   "cell_type": "code",
   "execution_count": 21,
   "metadata": {},
   "outputs": [
    {
     "name": "stdout",
     "output_type": "stream",
     "text": [
      "===== GPM Vs OTHER =====\n",
      "--- Monsoon Season ---\n",
      "          PRAT     GAUGE    CHIRPS\n",
      " MSE - 1040.85    988.58   1267.98\n",
      "RMSE -   32.26     31.44     35.61\n",
      "--- Non - Monsoon Season ---\n",
      " MSE -  566.58    452.07    441.86\n",
      "RMSE -   23.80     21.26     21.02\n"
     ]
    }
   ],
   "source": [
    "print(\"===== GPM Vs OTHER =====\")\n",
    "print(\"--- Monsoon Season ---\")\n",
    "print(f\"{' ':>7s}{'PRAT':>7s}{' '*3}{'GAUGE':>7s}{' '*3}{'CHIRPS':>7s}\")\n",
    "print_mse_rmse(monsoon_gpm['precipitationCal'], monsoon_prat['rainfall_rate'], monsoon_gauge['rainfall_rate'],\n",
    "               monsoon_chirps['precip'])\n",
    "print(\"--- Non - Monsoon Season ---\")\n",
    "print_mse_rmse(non_monsoon_gpm['precipitationCal'], non_monsoon_prat['rainfall_rate'], non_monsoon_gauge['rainfall_rate'],\n",
    "               non_monsoon_chirps['precip'])"
   ]
  },
  {
   "cell_type": "code",
   "execution_count": 47,
   "metadata": {},
   "outputs": [],
   "source": [
    "# print(\"===== PRAT Vs OTHER =====\")\n",
    "# print(\"--- Monsoon Season ---\")\n",
    "# print(f\"{' ':>7s}{'GAUGE':>7s}{' '*3}{'CHIRPS':>7s}{' '*3}{'GPM':>7s}\")\n",
    "# print(f\"{'MSE - ':>7s}{mse_gauge_monsoon:>7.2f}{' '*3}{mse_chirps_monsoon:>7.2f}{' '*3}{mse_gpm_monsoon:>7.2f}\")\n",
    "# print(f\"{'RMSE - ':>7s}{rmse_gauge_monsoon:>7.2f}{' '*3}{rmse_chirps_monsoon:>7.2f}{' '*3}{rmse_gpm_monsoon:>7.2f}\")\n",
    "# print(\"--- Non-Monsoon Season ---\")\n",
    "# print(f\"{'MSE - ':>7s}{mse_gauge_non:>7.2f}{' '*3}{mse_chirps_non:>7.2f}{' '*3}{mse_gpm_non:>7.2f}\")\n",
    "# print(f\"{'RMSE - ':>7s}{rmse_gauge_non:>7.2f}{' '*3}{rmse_chirps_non:>7.2f}{' '*3}{rmse_gpm_non:>7.2f}\")"
   ]
  },
  {
   "cell_type": "code",
   "execution_count": 35,
   "metadata": {},
   "outputs": [],
   "source": [
    "# g_mse_prat_mon, g_rmse_prat_mon = compute_mse_rmse(monsoon_gauge['rainfall_rate'], monsoon_prat['rainfall_rate'])\n",
    "# g_mse_chirps_mon, g_rmse_chirps_mon = compute_mse_rmse(monsoon_gauge['rainfall_rate'], monsoon_chirps['precip'])\n",
    "# g_mse_gpm_mon, g_rmse_gpm_mon = compute_mse_rmse(monsoon_gauge['rainfall_rate'], monsoon_gpm['precipitationCal'])\n",
    "\n",
    "# g_mse_prat_non, g_rmse_prat_non = compute_mse_rmse(non_monsoon_gauge['rainfall_rate'], \n",
    "#                                                    non_monsoon_prat['rainfall_rate'])\n",
    "# g_mse_chirps_non, g_rmse_chirps_non = compute_mse_rmse(non_monsoon_gauge['rainfall_rate'], \n",
    "#                                                        non_monsoon_chirps['precip'])\n",
    "# g_mse_gpm_non, g_rmse_gpm_non = compute_mse_rmse(non_monsoon_gauge['rainfall_rate'], \n",
    "#                                                  non_monsoon_gpm['precipitationCal'])"
   ]
  },
  {
   "cell_type": "code",
   "execution_count": 37,
   "metadata": {},
   "outputs": [
    {
     "name": "stdout",
     "output_type": "stream",
     "text": [
      "===== GAUGE Vs OTHER =====\n",
      "--- Monsoon Season ---\n",
      "          PRAT    CHIRPS       GPM\n",
      " MSE -  212.27    336.02    988.58\n",
      "RMSE -   14.57     18.33     31.44\n",
      "--- Non - Monsoon Season ---\n",
      " MSE -  157.00    184.92    452.07\n",
      "RMSE -   12.53     13.60     21.26\n"
     ]
    }
   ],
   "source": [
    "print(\"===== GAUGE Vs OTHER =====\")\n",
    "print(\"--- Monsoon Season ---\")\n",
    "print(f\"{' ':>7s}{'PRAT':>7s}{' '*3}{'CHIRPS':>7s}{' '*3}{'GPM':>7s}\")\n",
    "print(f\"{'MSE - ':>7s}{g_mse_prat_mon:>7.2f}{' '*3}{g_mse_chirps_mon:>7.2f}{' '*3}{g_mse_gpm_mon:>7.2f}\")\n",
    "print(f\"{'RMSE - ':>7s}{g_rmse_prat_mon:>7.2f}{' '*3}{g_rmse_chirps_mon:>7.2f}{' '*3}{g_rmse_gpm_mon:>7.2f}\")\n",
    "print(\"--- Non - Monsoon Season ---\")\n",
    "print(f\"{'MSE - ':>7s}{g_mse_prat_non:>7.2f}{' '*3}{g_mse_chirps_non:>7.2f}{' '*3}{g_mse_gpm_non:>7.2f}\")\n",
    "print(f\"{'RMSE - ':>7s}{g_rmse_prat_non:>7.2f}{' '*3}{g_rmse_chirps_non:>7.2f}{' '*3}{g_rmse_gpm_non:>7.2f}\")"
   ]
  },
  {
   "cell_type": "markdown",
   "metadata": {},
   "source": [
    "# Scatter Plots of PRAT with other datasets\n",
    "---"
   ]
  },
  {
   "cell_type": "code",
   "execution_count": null,
   "metadata": {},
   "outputs": [],
   "source": [
    "plt.figure(figsize=(17,5))\n",
    "plt.subplot(1,3,1)\n",
    "plt.suptitle(\"Scatter Plot for Monsoon season\", fontsize=15)\n",
    "plt.scatter(monsoon_gauge['rainfall_rate'], monsoon_prat['rainfall_rate'], alpha=0.6)\n",
    "plt.xlabel('Gauge Station', fontsize=15)\n",
    "plt.ylabel('PRAT', fontsize=15)\n",
    "plt.subplot(1,3,2)\n",
    "plt.scatter(monsoon_gpm['precipitationCal'], monsoon_prat['rainfall_rate'], alpha=0.6)\n",
    "plt.xlabel('GPM', fontsize=15)\n",
    "plt.subplot(1,3,3)\n",
    "plt.scatter(monsoon_chirps['precip'], monsoon_prat['rainfall_rate'], alpha=0.6)\n",
    "plt.xlabel('CHIRPS', fontsize=15)\n",
    "# plt.savefig('Figures/monsoon_scatter.pdf');"
   ]
  },
  {
   "cell_type": "code",
   "execution_count": null,
   "metadata": {},
   "outputs": [],
   "source": []
  },
  {
   "cell_type": "code",
   "execution_count": null,
   "metadata": {},
   "outputs": [],
   "source": [
    "plt.figure(figsize=(17,5))\n",
    "plt.subplot(1,3,1)\n",
    "plt.suptitle(\"Scatter Plot for Non-Monsoon season\", fontsize=15)\n",
    "plt.scatter(non_monsoon_gauge['rainfall_rate'], non_monsoon_prat['rainfall_rate'], alpha=0.35)\n",
    "plt.xlabel('Gauge Station', fontsize=15)\n",
    "plt.ylabel('PRAT', fontsize=15)\n",
    "plt.subplot(1,3,2)\n",
    "plt.scatter(non_monsoon_gpm['precipitationCal'], non_monsoon_prat['rainfall_rate'], alpha=0.35)\n",
    "plt.xlabel('GPM', fontsize=15)\n",
    "plt.subplot(1,3,3)\n",
    "plt.scatter(non_monsoon_chirps['precip'], non_monsoon_prat['rainfall_rate'], alpha=0.35)\n",
    "plt.xlabel('CHIRPS', fontsize=15);\n",
    "# plt.savefig('Figures/non_monsoon_scatter.pdf');"
   ]
  },
  {
   "cell_type": "markdown",
   "metadata": {},
   "source": [
    "# Dynamic Time Warping (DTW) -\n",
    "---\n",
    "To be checked later"
   ]
  },
  {
   "cell_type": "code",
   "execution_count": null,
   "metadata": {},
   "outputs": [],
   "source": [
    "# scaler = TimeSeriesScalerMeanVariance(mu=0., std=1.)  # Rescale time series\n",
    "# prat_scaled = scaler.fit_transform(monsoon_prat['rainfall_rate'])\n",
    "# gauge_scaled = scaler.fit_transform(monsoon_gauge['rainfall_rate'])\n",
    "path_gauge_monsoon, sim_gauge_monsoon = metrics.dtw_path(monsoon_prat['rainfall_rate'], monsoon_gauge['rainfall_rate'])\n",
    "path_gpm_monsoon, sim_gpm_monsoon = metrics.dtw_path(monsoon_prat['rainfall_rate'], monsoon_gpm['precipitationCal'])\n",
    "path_chirps_monsoon, sim_chirps_monsoon = metrics.dtw_path(monsoon_prat['rainfall_rate'], monsoon_chirps['precip'])\n",
    "print(\"--- Monsoon Season ---\")\n",
    "print(f\"DTW similarity score between PRAT and gauge station is {sim_gauge_monsoon:.3f}\")\n",
    "print(f\"DTW similarity score between PRAT and GPM is {sim_gpm_monsoon:.3f}\")\n",
    "print(f\"DTW similarity score between PRAT and CHIRPS is {sim_chirps_monsoon:.3f}\")\n",
    "\n",
    "path_gauge, sim_gauge_non_mon = metrics.dtw_path(non_monsoon_prat['rainfall_rate'], non_monsoon_gauge['rainfall_rate'])\n",
    "path_gpm, sim_gpm_non_mon = metrics.dtw_path(non_monsoon_prat['rainfall_rate'], non_monsoon_gpm['precipitationCal'])\n",
    "path_chirps, sim_chirps_non_mon = metrics.dtw_path(non_monsoon_prat['rainfall_rate'], non_monsoon_chirps['precip'])\n",
    "print(\"--- Non-Monsoon Season ---\")\n",
    "print(f\"PRAT and gauge station: {sim_gauge_non_mon:.3f}\")\n",
    "print(f\"PRAT and GPM: {sim_gpm_non_mon:.3f}\")\n",
    "print(f\"PRAT and CHIRPS: {sim_chirps_non_mon:.3f}\")\n",
    "\n",
    "path_gauge, sim_gauge_full = metrics.dtw_path(full_prat['rainfall_rate'], full_gauge['rainfall_rate'])\n",
    "path_gpm, sim_gpm_full = metrics.dtw_path(full_prat['rainfall_rate'], full_gpm['precipitationCal'])\n",
    "path_chirps, sim_chirps_full = metrics.dtw_path(full_prat['rainfall_rate'], full_chirps['precip'])\n",
    "print(\"--- Full year ---\")\n",
    "print(f\"PRAT and gauge station: {sim_gauge_full:.3f}\")\n",
    "print(f\"PRAT and GPM: {sim_gpm_full:.3f}\")\n",
    "print(f\"PRAT and CHIRPS: {sim_chirps_full:.3f}\")"
   ]
  },
  {
   "cell_type": "code",
   "execution_count": null,
   "metadata": {},
   "outputs": [],
   "source": [
    "def plot_DTW(series, path, labels, color):\n",
    "    left, bottom = 0.01, 0.1\n",
    "    w_ts = h_ts = 0.2\n",
    "    left_h = left + w_ts + 0.02\n",
    "    width = height = 0.65\n",
    "    bottom_h = bottom + height + 0.02\n",
    "\n",
    "    rect_s_y = [left, bottom, w_ts, height]\n",
    "    rect_gram = [left_h, bottom, width, height]\n",
    "    rect_s_x = [left_h, bottom_h, width, h_ts]\n",
    "    \n",
    "    plt.figure(1, figsize=(8, 8))\n",
    "    ax_gram = plt.axes(rect_gram)\n",
    "    ax_s_x = plt.axes(rect_s_x)\n",
    "    ax_s_y = plt.axes(rect_s_y)\n",
    "    sz =  monsoon_prat['rainfall_rate'].shape[0]\n",
    "    distance = cdist(\n",
    "        monsoon_prat['rainfall_rate'].to_numpy().reshape(-1, 1),\n",
    "        series.reshape(-1, 1)\n",
    "    )\n",
    "    ax_gram.imshow(distance, origin='lower', cmap='winter')\n",
    "    ax_gram.axis(\"off\")\n",
    "    ax_gram.autoscale(False)\n",
    "    ax_gram.plot([j for (i, j) in path], [i for (i, j) in path], \"r-\",\n",
    "                 linewidth=3.)\n",
    "\n",
    "    prat_plot, = ax_s_x.plot(np.arange(sz),  monsoon_prat['rainfall_rate'], linewidth=2., c='#e41a1c')\n",
    "    ax_s_x.axis(\"off\")\n",
    "    ax_s_x.set_xlim((0, sz - 1))\n",
    "    # plt.title(\"DTW Similarity Matrix\")\n",
    "\n",
    "    target_plot, = ax_s_y.plot( -series, np.arange(sz), linewidth=2., c=color)\n",
    "    ax_s_y.axis(\"off\")\n",
    "    ax_s_y.set_ylim((0, sz - 1))\n",
    "    ax_s_x.legend([prat_plot, target_plot], labels, loc='upper right')\n",
    "#     plt.savefig(f'Figures/dtw_{labels[1]}.pdf')\n",
    "    plt.show()\n",
    "    # plt.tight_layout()\n",
    "    "
   ]
  },
  {
   "cell_type": "code",
   "execution_count": null,
   "metadata": {},
   "outputs": [],
   "source": [
    "plot_DTW(monsoon_gauge['rainfall_rate'].to_numpy(), path_gauge_monsoon, [\"PRAT\", \"Gauge Station\"], '#984ea3')\n",
    "plot_DTW(monsoon_chirps['precip'].values, path_chirps_monsoon, [\"PRAT\", \"CHIRPS\"], '#4daf4a')\n",
    "plot_DTW(monsoon_gpm['precipitationCal'].values, path_gpm_monsoon, [\"PRAT\", \"GPM\"], '#377eb8')"
   ]
  },
  {
   "cell_type": "markdown",
   "metadata": {},
   "source": [
    "## Delete Later"
   ]
  },
  {
   "cell_type": "code",
   "execution_count": null,
   "metadata": {},
   "outputs": [],
   "source": [
    "# daily_statistics_df = pd.DataFrame()\n",
    "# monthly_statistics_df = pd.DataFrame()\n",
    "# daily_statistics_df['daily_total_rate'] = rainfall_df.rainfall_rate.resample('D').sum()\n",
    "# daily_statistics_df['daily_mean_rate'] = rainfall_df.rainfall_rate.resample('D').mean()\n",
    "# monthly_statistics_df['monthly_total_rate'] = rainfall_df.rainfall_rate.resample('M').sum()\n",
    "# monthly_statistics_df['monthly_mean_rate'] = rainfall_df.rainfall_rate.resample('M').mean()"
   ]
  },
  {
   "cell_type": "code",
   "execution_count": 34,
   "metadata": {},
   "outputs": [],
   "source": [
    "# print(\"---- Monsoon Season PCC (PRAT)----\")\n",
    "# print(f\"Correlation of PRAT with Gauge station data {monsoon_prat.corrwith(monsoon_gauge, method='pearson').values}\")\n",
    "# print(f\"Correlation of PRAT with GPM {monsoon_prat.corrwith(monsoon_gpm['precipitationCal'].to_series(), method='pearson').values}\")\n",
    "# print(f\"Correlation of PRAT with CHIRPS {monsoon_prat.corrwith(monsoon_chirps['precip'].to_series(), method='pearson').values}\")      \n",
    "\n",
    "# print(\"---- Non-Monsoon Season PCC ----\")\n",
    "# print(f\"Correlation of PRAT with Gauge station data {non_monsoon_prat.corrwith(non_monsoon_gauge, method='pearson').values}\")\n",
    "# print(f\"Correlation of PRAT with GPM {non_monsoon_prat.corrwith(non_monsoon_gpm['precipitationCal'].to_series(), method='pearson').values}\")\n",
    "# print(f\"Correlation of PRAT with CHIRPS {non_monsoon_prat.corrwith(non_monsoon_chirps['precip'].to_series(), method='pearson').values}\")\n",
    "\n",
    "# print(\"---- Full Year PCC ----\")\n",
    "# print(f\"Correlation of PRAT with Gauge station data {full_prat.corrwith(full_gauge, method='pearson').values}\")\n",
    "# print(f\"Correlation of PRAT with GPM {full_prat.corrwith(full_gpm['precipitationCal'].to_series(), method='pearson').values}\")\n",
    "# print(f\"Correlation of PRAT with CHIRPS {full_prat.corrwith(full_chirps['precip'].to_series(), method='pearson').values}\")\n",
    "\n",
    "# print(\"---- Monsoon Season PCC (GAUGE)----\")\n",
    "# print(f\"Correlation of GAUGE with PRAT {monsoon_gauge.corrwith(monsoon_prat, method='pearson').values}\")\n",
    "# print(f\"Correlation of GAUGE with GPM {monsoon_gauge.corrwith(monsoon_gpm['precipitationCal'].to_series(), method='pearson').values}\")\n",
    "# print(f\"Correlation of GAUGE with CHIRPS {monsoon_gauge.corrwith(monsoon_chirps['precip'].to_series(), method='pearson').values}\")      "
   ]
  },
  {
   "cell_type": "code",
   "execution_count": null,
   "metadata": {},
   "outputs": [],
   "source": []
  }
 ],
 "metadata": {
  "kernelspec": {
   "display_name": "Python 3",
   "language": "python",
   "name": "python3"
  },
  "language_info": {
   "codemirror_mode": {
    "name": "ipython",
    "version": 3
   },
   "file_extension": ".py",
   "mimetype": "text/x-python",
   "name": "python",
   "nbconvert_exporter": "python",
   "pygments_lexer": "ipython3",
   "version": "3.7.7"
  }
 },
 "nbformat": 4,
 "nbformat_minor": 2
}
