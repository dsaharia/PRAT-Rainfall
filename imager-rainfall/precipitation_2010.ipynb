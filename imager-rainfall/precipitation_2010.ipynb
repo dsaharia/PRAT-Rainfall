{
 "cells": [
  {
   "cell_type": "code",
   "execution_count": 1,
   "metadata": {},
   "outputs": [],
   "source": [
    "import xarray as xr"
   ]
  },
  {
   "cell_type": "code",
   "execution_count": 2,
   "metadata": {},
   "outputs": [],
   "source": [
    "ds = xr.open_dataset('data/chirps-2010.nc')"
   ]
  },
  {
   "cell_type": "code",
   "execution_count": 21,
   "metadata": {},
   "outputs": [
    {
     "data": {
      "text/html": [
       "<pre>&lt;xarray.DataArray &#x27;latitude&#x27; (latitude: 2000)&gt;\n",
       "array([-49.975   , -49.925   , -49.875   , ...,  49.874992,  49.924995,\n",
       "        49.975   ], dtype=float32)\n",
       "Coordinates:\n",
       "  * latitude  (latitude) float32 -49.975 -49.925 -49.875 ... 49.924995 49.975\n",
       "Attributes:\n",
       "    units:          degrees_north\n",
       "    standard_name:  latitude\n",
       "    long_name:      latitude\n",
       "    axis:           Y</pre>"
      ],
      "text/plain": [
       "<xarray.DataArray 'latitude' (latitude: 2000)>\n",
       "array([-49.975   , -49.925   , -49.875   , ...,  49.874992,  49.924995,\n",
       "        49.975   ], dtype=float32)\n",
       "Coordinates:\n",
       "  * latitude  (latitude) float32 -49.975 -49.925 -49.875 ... 49.924995 49.975\n",
       "Attributes:\n",
       "    units:          degrees_north\n",
       "    standard_name:  latitude\n",
       "    long_name:      latitude\n",
       "    axis:           Y"
      ]
     },
     "execution_count": 21,
     "metadata": {},
     "output_type": "execute_result"
    }
   ],
   "source": [
    "ds['latitude']"
   ]
  },
  {
   "cell_type": "code",
   "execution_count": null,
   "metadata": {},
   "outputs": [],
   "source": []
  }
 ],
 "metadata": {
  "kernelspec": {
   "display_name": "Python 3",
   "language": "python",
   "name": "python3"
  },
  "language_info": {
   "codemirror_mode": {
    "name": "ipython",
    "version": 3
   },
   "file_extension": ".py",
   "mimetype": "text/x-python",
   "name": "python",
   "nbconvert_exporter": "python",
   "pygments_lexer": "ipython3",
   "version": "3.7.1"
  }
 },
 "nbformat": 4,
 "nbformat_minor": 2
}
