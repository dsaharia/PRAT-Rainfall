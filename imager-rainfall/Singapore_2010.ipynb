{
 "cells": [
  {
   "cell_type": "markdown",
   "metadata": {},
   "source": [
    "## Singapore Rainfall data for the location (1.30◦N,103.68◦E), collected in year 2010 from ground-based sky imager.\n",
    "Initial Ploting and Data Parsing."
   ]
  },
  {
   "cell_type": "code",
   "execution_count": 1,
   "metadata": {},
   "outputs": [],
   "source": [
    "%matplotlib inline\n",
    "import pandas as pd\n",
    "import matplotlib.pyplot as plt"
   ]
  },
  {
   "cell_type": "code",
   "execution_count": 2,
   "metadata": {},
   "outputs": [
    {
     "name": "stdout",
     "output_type": "stream",
     "text": [
      "   day  hour  minute  rainfall_rate\n",
      "0    1     0       0              0\n",
      "1    1     0       1              0\n",
      "2    1     0       2              0\n",
      "3    1     0       3              0\n",
      "4    1     0       4              0\n"
     ]
    }
   ],
   "source": [
    "dataframe = pd.read_csv(\"imagerdata.csv\", header=None, names=[\"day\", \"hour\", \"minute\", \"rainfall_rate\"])\n",
    "print(dataframe.head())"
   ]
  },
  {
   "cell_type": "code",
   "execution_count": 3,
   "metadata": {},
   "outputs": [],
   "source": [
    "# Parsing the Dates\n",
    "dataframe['date']=pd.to_datetime(dataframe['day'], unit='D', origin=pd.Timestamp('2009-12-31')) # Using day number to create the date\n",
    "dataframe['timestamp'] = dataframe['date'] + pd.to_timedelta(dataframe['hour'].astype('str') + ':' + dataframe['minute'].astype('str') + ':00') # append the timedelta in hours and minutes to get the full timestamp\n",
    "dataframe.set_index('timestamp', inplace=True)"
   ]
  },
  {
   "cell_type": "code",
   "execution_count": 4,
   "metadata": {},
   "outputs": [
    {
     "data": {
      "text/html": [
       "<div>\n",
       "<style scoped>\n",
       "    .dataframe tbody tr th:only-of-type {\n",
       "        vertical-align: middle;\n",
       "    }\n",
       "\n",
       "    .dataframe tbody tr th {\n",
       "        vertical-align: top;\n",
       "    }\n",
       "\n",
       "    .dataframe thead th {\n",
       "        text-align: right;\n",
       "    }\n",
       "</style>\n",
       "<table border=\"1\" class=\"dataframe\">\n",
       "  <thead>\n",
       "    <tr style=\"text-align: right;\">\n",
       "      <th></th>\n",
       "      <th>day</th>\n",
       "      <th>hour</th>\n",
       "      <th>minute</th>\n",
       "      <th>rainfall_rate</th>\n",
       "      <th>date</th>\n",
       "    </tr>\n",
       "    <tr>\n",
       "      <th>timestamp</th>\n",
       "      <th></th>\n",
       "      <th></th>\n",
       "      <th></th>\n",
       "      <th></th>\n",
       "      <th></th>\n",
       "    </tr>\n",
       "  </thead>\n",
       "  <tbody>\n",
       "    <tr>\n",
       "      <th>2010-12-31 23:55:00</th>\n",
       "      <td>365</td>\n",
       "      <td>23</td>\n",
       "      <td>55</td>\n",
       "      <td>0</td>\n",
       "      <td>2010-12-31</td>\n",
       "    </tr>\n",
       "    <tr>\n",
       "      <th>2010-12-31 23:56:00</th>\n",
       "      <td>365</td>\n",
       "      <td>23</td>\n",
       "      <td>56</td>\n",
       "      <td>0</td>\n",
       "      <td>2010-12-31</td>\n",
       "    </tr>\n",
       "    <tr>\n",
       "      <th>2010-12-31 23:57:00</th>\n",
       "      <td>365</td>\n",
       "      <td>23</td>\n",
       "      <td>57</td>\n",
       "      <td>0</td>\n",
       "      <td>2010-12-31</td>\n",
       "    </tr>\n",
       "    <tr>\n",
       "      <th>2010-12-31 23:58:00</th>\n",
       "      <td>365</td>\n",
       "      <td>23</td>\n",
       "      <td>58</td>\n",
       "      <td>0</td>\n",
       "      <td>2010-12-31</td>\n",
       "    </tr>\n",
       "    <tr>\n",
       "      <th>2010-12-31 23:59:00</th>\n",
       "      <td>365</td>\n",
       "      <td>23</td>\n",
       "      <td>59</td>\n",
       "      <td>0</td>\n",
       "      <td>2010-12-31</td>\n",
       "    </tr>\n",
       "  </tbody>\n",
       "</table>\n",
       "</div>"
      ],
      "text/plain": [
       "                     day  hour  minute  rainfall_rate       date\n",
       "timestamp                                                       \n",
       "2010-12-31 23:55:00  365    23      55              0 2010-12-31\n",
       "2010-12-31 23:56:00  365    23      56              0 2010-12-31\n",
       "2010-12-31 23:57:00  365    23      57              0 2010-12-31\n",
       "2010-12-31 23:58:00  365    23      58              0 2010-12-31\n",
       "2010-12-31 23:59:00  365    23      59              0 2010-12-31"
      ]
     },
     "execution_count": 4,
     "metadata": {},
     "output_type": "execute_result"
    }
   ],
   "source": [
    "# dataframe.head()\n",
    "dataframe.tail()"
   ]
  },
  {
   "cell_type": "code",
   "execution_count": 5,
   "metadata": {},
   "outputs": [],
   "source": [
    "# Complicated\n",
    "# def parse_date(day):\n",
    "#     start = datetime(2009,12,31)\n",
    "#     delta = timedelta(days=int(day))\n",
    "#     new_date = start + delta\n",
    "#     return new_date\n",
    "# dataframe['date'] = dataframe['day'].astype(str).map(parse_date)"
   ]
  },
  {
   "cell_type": "code",
   "execution_count": 6,
   "metadata": {},
   "outputs": [
    {
     "data": {
      "image/png": "[encoded data removed]",
      "text/plain": [
       "<Figure size 432x288 with 1 Axes>"
      ]
     },
     "metadata": {
      "needs_background": "light"
     },
     "output_type": "display_data"
    }
   ],
   "source": [
    "plt.plot(dataframe.index.values, dataframe['rainfall_rate'], linewidth=0.5, color='r')\n",
    "plt.title('Singapore Rainfall Rate Plot for 2010')\n",
    "plt.xlabel('Time')\n",
    "plt.ylabel('Rainfall Rate')\n",
    "plt.show()"
   ]
  },
  {
   "cell_type": "code",
   "execution_count": null,
   "metadata": {},
   "outputs": [],
   "source": []
  },
  {
   "cell_type": "code",
   "execution_count": 7,
   "metadata": {},
   "outputs": [
    {
     "data": {
      "text/html": [
       "<div>\n",
       "<style scoped>\n",
       "    .dataframe tbody tr th:only-of-type {\n",
       "        vertical-align: middle;\n",
       "    }\n",
       "\n",
       "    .dataframe tbody tr th {\n",
       "        vertical-align: top;\n",
       "    }\n",
       "\n",
       "    .dataframe thead th {\n",
       "        text-align: right;\n",
       "    }\n",
       "</style>\n",
       "<table border=\"1\" class=\"dataframe\">\n",
       "  <thead>\n",
       "    <tr style=\"text-align: right;\">\n",
       "      <th></th>\n",
       "      <th>day</th>\n",
       "      <th>hour</th>\n",
       "      <th>minute</th>\n",
       "      <th>rainfall_rate</th>\n",
       "      <th>date</th>\n",
       "    </tr>\n",
       "    <tr>\n",
       "      <th>timestamp</th>\n",
       "      <th></th>\n",
       "      <th></th>\n",
       "      <th></th>\n",
       "      <th></th>\n",
       "      <th></th>\n",
       "    </tr>\n",
       "  </thead>\n",
       "  <tbody>\n",
       "    <tr>\n",
       "      <th>2010-12-31 23:55:00</th>\n",
       "      <td>365</td>\n",
       "      <td>23</td>\n",
       "      <td>55</td>\n",
       "      <td>0</td>\n",
       "      <td>2010-12-31</td>\n",
       "    </tr>\n",
       "    <tr>\n",
       "      <th>2010-12-31 23:56:00</th>\n",
       "      <td>365</td>\n",
       "      <td>23</td>\n",
       "      <td>56</td>\n",
       "      <td>0</td>\n",
       "      <td>2010-12-31</td>\n",
       "    </tr>\n",
       "    <tr>\n",
       "      <th>2010-12-31 23:57:00</th>\n",
       "      <td>365</td>\n",
       "      <td>23</td>\n",
       "      <td>57</td>\n",
       "      <td>0</td>\n",
       "      <td>2010-12-31</td>\n",
       "    </tr>\n",
       "    <tr>\n",
       "      <th>2010-12-31 23:58:00</th>\n",
       "      <td>365</td>\n",
       "      <td>23</td>\n",
       "      <td>58</td>\n",
       "      <td>0</td>\n",
       "      <td>2010-12-31</td>\n",
       "    </tr>\n",
       "    <tr>\n",
       "      <th>2010-12-31 23:59:00</th>\n",
       "      <td>365</td>\n",
       "      <td>23</td>\n",
       "      <td>59</td>\n",
       "      <td>0</td>\n",
       "      <td>2010-12-31</td>\n",
       "    </tr>\n",
       "  </tbody>\n",
       "</table>\n",
       "</div>"
      ],
      "text/plain": [
       "                     day  hour  minute  rainfall_rate       date\n",
       "timestamp                                                       \n",
       "2010-12-31 23:55:00  365    23      55              0 2010-12-31\n",
       "2010-12-31 23:56:00  365    23      56              0 2010-12-31\n",
       "2010-12-31 23:57:00  365    23      57              0 2010-12-31\n",
       "2010-12-31 23:58:00  365    23      58              0 2010-12-31\n",
       "2010-12-31 23:59:00  365    23      59              0 2010-12-31"
      ]
     },
     "execution_count": 7,
     "metadata": {},
     "output_type": "execute_result"
    }
   ],
   "source": [
    "dataframe.tail()"
   ]
  },
  {
   "cell_type": "markdown",
   "metadata": {},
   "source": [
    "### Calculate the daily rainfall rate.\n",
    "For this `Group-By` is to be used for grouping together based on the day for each month."
   ]
  },
  {
   "cell_type": "code",
   "execution_count": 16,
   "metadata": {},
   "outputs": [],
   "source": [
    "time_index = dataframe.index # timestamps are extracted.\n",
    "daily_groups = dataframe.groupby([time_index.month,time_index.day]) # grouping based on the month and day."
   ]
  },
  {
   "cell_type": "code",
   "execution_count": 17,
   "metadata": {},
   "outputs": [
    {
     "data": {
      "text/plain": [
       "1080"
      ]
     },
     "execution_count": 17,
     "metadata": {},
     "output_type": "execute_result"
    }
   ],
   "source": [
    "daily_groups.get_group((1,1))['rainfall_rate'].sum()"
   ]
  },
  {
   "cell_type": "code",
   "execution_count": 15,
   "metadata": {},
   "outputs": [
    {
     "data": {
      "text/plain": [
       "DatetimeIndex(['2010-01-01 00:00:00', '2010-01-01 00:01:00',\n",
       "               '2010-01-01 00:02:00', '2010-01-01 00:03:00',\n",
       "               '2010-01-01 00:04:00', '2010-01-01 00:05:00',\n",
       "               '2010-01-01 00:06:00', '2010-01-01 00:07:00',\n",
       "               '2010-01-01 00:08:00', '2010-01-01 00:09:00',\n",
       "               ...\n",
       "               '2010-12-31 23:50:00', '2010-12-31 23:51:00',\n",
       "               '2010-12-31 23:52:00', '2010-12-31 23:53:00',\n",
       "               '2010-12-31 23:54:00', '2010-12-31 23:55:00',\n",
       "               '2010-12-31 23:56:00', '2010-12-31 23:57:00',\n",
       "               '2010-12-31 23:58:00', '2010-12-31 23:59:00'],\n",
       "              dtype='datetime64[ns]', name='timestamp', length=525600, freq=None)"
      ]
     },
     "execution_count": 15,
     "metadata": {},
     "output_type": "execute_result"
    }
   ],
   "source": []
  },
  {
   "cell_type": "code",
   "execution_count": null,
   "metadata": {},
   "outputs": [],
   "source": []
  }
 ],
 "metadata": {
  "kernelspec": {
   "display_name": "Python 3",
   "language": "python",
   "name": "python3"
  },
  "language_info": {
   "codemirror_mode": {
    "name": "ipython",
    "version": 3
   },
   "file_extension": ".py",
   "mimetype": "text/x-python",
   "name": "python",
   "nbconvert_exporter": "python",
   "pygments_lexer": "ipython3",
   "version": "3.7.1"
  }
 },
 "nbformat": 4,
 "nbformat_minor": 2
}
