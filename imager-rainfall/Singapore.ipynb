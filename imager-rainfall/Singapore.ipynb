{
 "cells": [
  {
   "cell_type": "markdown",
   "metadata": {},
   "source": [
    "## Singapore Rainfall data for the location (1.30◦N,103.68◦E), collected in year 2010 from ground-based weather station.\n",
    "Exploratory analysis - Initial Ploting and Data Parsing."
   ]
  },
  {
   "cell_type": "code",
   "execution_count": 27,
   "metadata": {},
   "outputs": [],
   "source": [
    "%matplotlib inline\n",
    "from glob import glob # For selecting multiple filenames\n",
    "import pandas as pd\n",
    "import matplotlib.pyplot as plt\n",
    "import matplotlib.style as style\n",
    "import xarray as xr\n",
    "import seaborn as sns # for density plots\n",
    "import matplotlib.dates as mdates\n",
    "from matplotlib.backends.backend_pdf import PdfPages\n",
    "from pandas.plotting import register_matplotlib_converters\n",
    "register_matplotlib_converters()\n",
    "# from datetime import datetime\n",
    "style.use('fivethirtyeight')\n",
    "plt.rcParams[\"figure.figsize\"] = (16,5) # For Increasing Size of graph"
   ]
  },
  {
   "cell_type": "code",
   "execution_count": 2,
   "metadata": {},
   "outputs": [
    {
     "data": {
      "text/html": [
       "<style>.container { width:100% !important; }</style>"
      ],
      "text/plain": [
       "<IPython.core.display.HTML object>"
      ]
     },
     "metadata": {},
     "output_type": "display_data"
    }
   ],
   "source": [
    "from IPython.core.display import display, HTML\n",
    "display(HTML(\"<style>.container { width:100% !important; }</style>\"))"
   ]
  },
  {
   "cell_type": "markdown",
   "metadata": {},
   "source": [
    "## Data Importing\n",
    "---"
   ]
  },
  {
   "cell_type": "code",
   "execution_count": 43,
   "metadata": {},
   "outputs": [],
   "source": [
    "# Dataframe for IMAGER data\n",
    "imager_rainfall_df = pd.read_csv(\"data/imagerdata.csv\", header=None, names=[\"day\", \"hour\", \"minute\", \"rainfall_rate\"])\n",
    "chirps_dataset = xr.open_dataset('data/chirps-2010.nc') # open the dataset using xarray\n"
   ]
  },
  {
   "cell_type": "code",
   "execution_count": 53,
   "metadata": {},
   "outputs": [],
   "source": [
    "gpm_dataset = xr.open_dataset('data/singaporeIMERG.nc')"
   ]
  },
  {
   "cell_type": "code",
   "execution_count": 4,
   "metadata": {},
   "outputs": [
    {
     "data": {
      "text/html": [
       "<div>\n",
       "<style scoped>\n",
       "    .dataframe tbody tr th:only-of-type {\n",
       "        vertical-align: middle;\n",
       "    }\n",
       "\n",
       "    .dataframe tbody tr th {\n",
       "        vertical-align: top;\n",
       "    }\n",
       "\n",
       "    .dataframe thead th {\n",
       "        text-align: right;\n",
       "    }\n",
       "</style>\n",
       "<table border=\"1\" class=\"dataframe\">\n",
       "  <thead>\n",
       "    <tr style=\"text-align: right;\">\n",
       "      <th></th>\n",
       "      <th>Year</th>\n",
       "      <th>Month</th>\n",
       "      <th>Day</th>\n",
       "      <th>Daily Rainfall Total (mm)</th>\n",
       "    </tr>\n",
       "  </thead>\n",
       "  <tbody>\n",
       "    <tr>\n",
       "      <th>26</th>\n",
       "      <td>2010</td>\n",
       "      <td>1</td>\n",
       "      <td>27</td>\n",
       "      <td>0.0</td>\n",
       "    </tr>\n",
       "    <tr>\n",
       "      <th>27</th>\n",
       "      <td>2010</td>\n",
       "      <td>1</td>\n",
       "      <td>28</td>\n",
       "      <td>0.0</td>\n",
       "    </tr>\n",
       "    <tr>\n",
       "      <th>28</th>\n",
       "      <td>2010</td>\n",
       "      <td>1</td>\n",
       "      <td>29</td>\n",
       "      <td>0.4</td>\n",
       "    </tr>\n",
       "    <tr>\n",
       "      <th>29</th>\n",
       "      <td>2010</td>\n",
       "      <td>1</td>\n",
       "      <td>30</td>\n",
       "      <td>2.1</td>\n",
       "    </tr>\n",
       "    <tr>\n",
       "      <th>30</th>\n",
       "      <td>2010</td>\n",
       "      <td>1</td>\n",
       "      <td>31</td>\n",
       "      <td>0.0</td>\n",
       "    </tr>\n",
       "  </tbody>\n",
       "</table>\n",
       "</div>"
      ],
      "text/plain": [
       "    Year  Month  Day  Daily Rainfall Total (mm)\n",
       "26  2010      1   27                        0.0\n",
       "27  2010      1   28                        0.0\n",
       "28  2010      1   29                        0.4\n",
       "29  2010      1   30                        2.1\n",
       "30  2010      1   31                        0.0"
      ]
     },
     "execution_count": 4,
     "metadata": {},
     "output_type": "execute_result"
    }
   ],
   "source": [
    "# Import using glob\n",
    "filenames = glob(\"data/daily_*.csv\")\n",
    "gauge_station_df = pd.concat([pd.read_csv(filename, encoding= 'unicode_escape') for filename in filenames], axis=0)\n",
    "gauge_station_df.drop(['Station','Highest 30 Min Rainfall (mm)', \n",
    "                       'Highest 60 Min Rainfall (mm)', \n",
    "                       'Highest 120 Min Rainfall (mm)', \n",
    "                       'Mean Wind Speed (km/h)', \n",
    "                       'Max Wind Speed (km/h)', \n",
    "                       'Mean Temperature (°C)', \n",
    "                       'Minimum Temperature (°C)', \n",
    "                       'Maximum Temperature (°C)'], axis=1, inplace=True) # Dropped the day, hour, minute columns\n",
    "gauge_station_df.tail()"
   ]
  },
  {
   "cell_type": "code",
   "execution_count": 5,
   "metadata": {},
   "outputs": [],
   "source": [
    "figures = []\n",
    "def fig_to_pdf(figures):\n",
    "    \"\"\"\n",
    "    This function takes a figure object and saves it in a PDF. ./Figures/\n",
    "    \"\"\"\n",
    "    with PdfPages(\"Figures/Rainfall Figures.pdf\") as pdf:\n",
    "        for fig in figures:\n",
    "            pdf.savefig(fig)"
   ]
  },
  {
   "cell_type": "code",
   "execution_count": null,
   "metadata": {},
   "outputs": [],
   "source": []
  },
  {
   "cell_type": "code",
   "execution_count": null,
   "metadata": {},
   "outputs": [],
   "source": []
  },
  {
   "cell_type": "markdown",
   "metadata": {},
   "source": [
    "### Parsing the Gauge Station Data for JANUARY 2010\n",
    "\n",
    "Parse Year, Month and day. Convert to datetime. Set tindex to timestamp. Drop Year, Month and Day columns. Rename the column"
   ]
  },
  {
   "cell_type": "code",
   "execution_count": 6,
   "metadata": {
    "scrolled": true
   },
   "outputs": [
    {
     "data": {
      "text/html": [
       "<div>\n",
       "<style scoped>\n",
       "    .dataframe tbody tr th:only-of-type {\n",
       "        vertical-align: middle;\n",
       "    }\n",
       "\n",
       "    .dataframe tbody tr th {\n",
       "        vertical-align: top;\n",
       "    }\n",
       "\n",
       "    .dataframe thead th {\n",
       "        text-align: right;\n",
       "    }\n",
       "</style>\n",
       "<table border=\"1\" class=\"dataframe\">\n",
       "  <thead>\n",
       "    <tr style=\"text-align: right;\">\n",
       "      <th></th>\n",
       "      <th>rainfall_rate</th>\n",
       "    </tr>\n",
       "    <tr>\n",
       "      <th>timestamp</th>\n",
       "      <th></th>\n",
       "    </tr>\n",
       "  </thead>\n",
       "  <tbody>\n",
       "    <tr>\n",
       "      <th>2010-07-01</th>\n",
       "      <td>104.2</td>\n",
       "    </tr>\n",
       "    <tr>\n",
       "      <th>2010-07-02</th>\n",
       "      <td>18.4</td>\n",
       "    </tr>\n",
       "    <tr>\n",
       "      <th>2010-07-03</th>\n",
       "      <td>34.8</td>\n",
       "    </tr>\n",
       "    <tr>\n",
       "      <th>2010-07-04</th>\n",
       "      <td>0.0</td>\n",
       "    </tr>\n",
       "    <tr>\n",
       "      <th>2010-07-05</th>\n",
       "      <td>0.0</td>\n",
       "    </tr>\n",
       "  </tbody>\n",
       "</table>\n",
       "</div>"
      ],
      "text/plain": [
       "            rainfall_rate\n",
       "timestamp                \n",
       "2010-07-01          104.2\n",
       "2010-07-02           18.4\n",
       "2010-07-03           34.8\n",
       "2010-07-04            0.0\n",
       "2010-07-05            0.0"
      ]
     },
     "execution_count": 6,
     "metadata": {},
     "output_type": "execute_result"
    }
   ],
   "source": [
    "# Semicolon is used to separate month and day, otherwise datetime is wrongly converted\n",
    "gauge_station_df['timestamp'] = pd.to_datetime(gauge_station_df['Year'].astype(str) + gauge_station_df['Month'].astype(str) + \":\"+ gauge_station_df['Day'].astype(str), format=\"%Y%m:%d\")\n",
    "gauge_station_df.set_index('timestamp', inplace=True)\n",
    "gauge_station_df.drop(['Year', 'Month', 'Day'], inplace=True, axis=1)\n",
    "gauge_station_df.sort_index(axis=0)\n",
    "gauge_station_df.rename(columns={'Daily Rainfall Total (mm)':'rainfall_rate'}, inplace=True)\n",
    "gauge_station_df.head()"
   ]
  },
  {
   "cell_type": "markdown",
   "metadata": {},
   "source": [
    "### Parsing the CHIRPS dataset for JANUARY 2010"
   ]
  },
  {
   "cell_type": "code",
   "execution_count": 40,
   "metadata": {},
   "outputs": [],
   "source": [
    "# Dataframe for CHIRPS Dataset\n",
    "chirps_df = chirps_dataset['precip'].sel(time=slice('2010-01-01T00:0','2010-01-31T00:0'), longitude=103.67499, latitude=1.324997).to_dataframe()\n",
    "monsoon_chirps_df = chirps_dataset['precip'].sel(time=slice('2010-06-01T00:0','2010-09-30T00:0'), longitude=103.67499, latitude=1.324997).to_dataframe()"
   ]
  },
  {
   "cell_type": "markdown",
   "metadata": {},
   "source": [
    "## Parsing the GPM dataset"
   ]
  },
  {
   "cell_type": "code",
   "execution_count": null,
   "metadata": {},
   "outputs": [],
   "source": [
    "index = gpm_dataset.indexes['time'].to_datetimeindex()\n",
    "gpm_dataset['time'] = index"
   ]
  },
  {
   "cell_type": "code",
   "execution_count": null,
   "metadata": {},
   "outputs": [],
   "source": []
  },
  {
   "cell_type": "code",
   "execution_count": 59,
   "metadata": {},
   "outputs": [
    {
     "data": {
      "text/html": [
       "<div>\n",
       "<style scoped>\n",
       "    .dataframe tbody tr th:only-of-type {\n",
       "        vertical-align: middle;\n",
       "    }\n",
       "\n",
       "    .dataframe tbody tr th {\n",
       "        vertical-align: top;\n",
       "    }\n",
       "\n",
       "    .dataframe thead th {\n",
       "        text-align: right;\n",
       "    }\n",
       "</style>\n",
       "<table border=\"1\" class=\"dataframe\">\n",
       "  <thead>\n",
       "    <tr style=\"text-align: right;\">\n",
       "      <th></th>\n",
       "      <th>level_0</th>\n",
       "      <th>index</th>\n",
       "      <th>time</th>\n",
       "      <th>lon</th>\n",
       "      <th>lat</th>\n",
       "      <th>precipitationCal</th>\n",
       "    </tr>\n",
       "  </thead>\n",
       "  <tbody>\n",
       "    <tr>\n",
       "      <th>0</th>\n",
       "      <td>0</td>\n",
       "      <td>0</td>\n",
       "      <td>2010-01-01 00:00:00</td>\n",
       "      <td>103.650002</td>\n",
       "      <td>1.15</td>\n",
       "      <td>0.0</td>\n",
       "    </tr>\n",
       "    <tr>\n",
       "      <th>1</th>\n",
       "      <td>1</td>\n",
       "      <td>1</td>\n",
       "      <td>2010-01-01 00:00:00</td>\n",
       "      <td>103.650002</td>\n",
       "      <td>1.25</td>\n",
       "      <td>0.0</td>\n",
       "    </tr>\n",
       "    <tr>\n",
       "      <th>2</th>\n",
       "      <td>2</td>\n",
       "      <td>2</td>\n",
       "      <td>2010-01-01 00:00:00</td>\n",
       "      <td>103.650002</td>\n",
       "      <td>1.35</td>\n",
       "      <td>0.0</td>\n",
       "    </tr>\n",
       "    <tr>\n",
       "      <th>3</th>\n",
       "      <td>3</td>\n",
       "      <td>3</td>\n",
       "      <td>2010-01-01 00:00:00</td>\n",
       "      <td>103.650002</td>\n",
       "      <td>1.45</td>\n",
       "      <td>0.0</td>\n",
       "    </tr>\n",
       "    <tr>\n",
       "      <th>4</th>\n",
       "      <td>4</td>\n",
       "      <td>4</td>\n",
       "      <td>2010-01-01 00:00:00</td>\n",
       "      <td>103.750000</td>\n",
       "      <td>1.15</td>\n",
       "      <td>0.0</td>\n",
       "    </tr>\n",
       "    <tr>\n",
       "      <th>...</th>\n",
       "      <td>...</td>\n",
       "      <td>...</td>\n",
       "      <td>...</td>\n",
       "      <td>...</td>\n",
       "      <td>...</td>\n",
       "      <td>...</td>\n",
       "    </tr>\n",
       "    <tr>\n",
       "      <th>350395</th>\n",
       "      <td>350395</td>\n",
       "      <td>350395</td>\n",
       "      <td>2010-12-31 23:30:00</td>\n",
       "      <td>103.949997</td>\n",
       "      <td>1.45</td>\n",
       "      <td>0.0</td>\n",
       "    </tr>\n",
       "    <tr>\n",
       "      <th>350396</th>\n",
       "      <td>350396</td>\n",
       "      <td>350396</td>\n",
       "      <td>2010-12-31 23:30:00</td>\n",
       "      <td>104.050003</td>\n",
       "      <td>1.15</td>\n",
       "      <td>0.0</td>\n",
       "    </tr>\n",
       "    <tr>\n",
       "      <th>350397</th>\n",
       "      <td>350397</td>\n",
       "      <td>350397</td>\n",
       "      <td>2010-12-31 23:30:00</td>\n",
       "      <td>104.050003</td>\n",
       "      <td>1.25</td>\n",
       "      <td>0.0</td>\n",
       "    </tr>\n",
       "    <tr>\n",
       "      <th>350398</th>\n",
       "      <td>350398</td>\n",
       "      <td>350398</td>\n",
       "      <td>2010-12-31 23:30:00</td>\n",
       "      <td>104.050003</td>\n",
       "      <td>1.35</td>\n",
       "      <td>0.0</td>\n",
       "    </tr>\n",
       "    <tr>\n",
       "      <th>350399</th>\n",
       "      <td>350399</td>\n",
       "      <td>350399</td>\n",
       "      <td>2010-12-31 23:30:00</td>\n",
       "      <td>104.050003</td>\n",
       "      <td>1.45</td>\n",
       "      <td>0.0</td>\n",
       "    </tr>\n",
       "  </tbody>\n",
       "</table>\n",
       "<p>350400 rows × 6 columns</p>\n",
       "</div>"
      ],
      "text/plain": [
       "        level_0   index                time         lon   lat  \\\n",
       "0             0       0 2010-01-01 00:00:00  103.650002  1.15   \n",
       "1             1       1 2010-01-01 00:00:00  103.650002  1.25   \n",
       "2             2       2 2010-01-01 00:00:00  103.650002  1.35   \n",
       "3             3       3 2010-01-01 00:00:00  103.650002  1.45   \n",
       "4             4       4 2010-01-01 00:00:00  103.750000  1.15   \n",
       "...         ...     ...                 ...         ...   ...   \n",
       "350395   350395  350395 2010-12-31 23:30:00  103.949997  1.45   \n",
       "350396   350396  350396 2010-12-31 23:30:00  104.050003  1.15   \n",
       "350397   350397  350397 2010-12-31 23:30:00  104.050003  1.25   \n",
       "350398   350398  350398 2010-12-31 23:30:00  104.050003  1.35   \n",
       "350399   350399  350399 2010-12-31 23:30:00  104.050003  1.45   \n",
       "\n",
       "        precipitationCal  \n",
       "0                    0.0  \n",
       "1                    0.0  \n",
       "2                    0.0  \n",
       "3                    0.0  \n",
       "4                    0.0  \n",
       "...                  ...  \n",
       "350395               0.0  \n",
       "350396               0.0  \n",
       "350397               0.0  \n",
       "350398               0.0  \n",
       "350399               0.0  \n",
       "\n",
       "[350400 rows x 6 columns]"
      ]
     },
     "execution_count": 59,
     "metadata": {},
     "output_type": "execute_result"
    }
   ],
   "source": [
    "temp = gpm_dataset['precipitationCal'].sel(time=slice('2010-01-01', '2010-12-31'))\n",
    "gmp_df = temp.sel(lon=103.68, lat=1.30, method='nearest').to_dataframe()\n",
    "gpm_df.reset_index(inplace=True)\n",
    "gpm_df"
   ]
  },
  {
   "cell_type": "code",
   "execution_count": null,
   "metadata": {},
   "outputs": [],
   "source": []
  },
  {
   "cell_type": "markdown",
   "metadata": {},
   "source": [
    "### Parsing the IMAGER dataset"
   ]
  },
  {
   "cell_type": "code",
   "execution_count": 10,
   "metadata": {},
   "outputs": [],
   "source": [
    "# Parsing the Dates\n",
    "imager_rainfall_df['date']=pd.to_datetime(imager_rainfall_df['day'], unit='D', origin=pd.Timestamp('2009-12-31')) # Using day number to create the date\n",
    "imager_rainfall_df['timestamp'] = imager_rainfall_df['date'] + pd.to_timedelta(imager_rainfall_df['hour'].astype('str') + ':' + imager_rainfall_df['minute'].astype('str') + ':00') # append the timedelta in hours and minutes to get the full timestamp\n",
    "imager_rainfall_df.set_index('timestamp', inplace=True)"
   ]
  },
  {
   "cell_type": "code",
   "execution_count": 11,
   "metadata": {},
   "outputs": [
    {
     "data": {
      "text/html": [
       "<div>\n",
       "<style scoped>\n",
       "    .dataframe tbody tr th:only-of-type {\n",
       "        vertical-align: middle;\n",
       "    }\n",
       "\n",
       "    .dataframe tbody tr th {\n",
       "        vertical-align: top;\n",
       "    }\n",
       "\n",
       "    .dataframe thead th {\n",
       "        text-align: right;\n",
       "    }\n",
       "</style>\n",
       "<table border=\"1\" class=\"dataframe\">\n",
       "  <thead>\n",
       "    <tr style=\"text-align: right;\">\n",
       "      <th></th>\n",
       "      <th>rainfall_rate</th>\n",
       "    </tr>\n",
       "    <tr>\n",
       "      <th>timestamp</th>\n",
       "      <th></th>\n",
       "    </tr>\n",
       "  </thead>\n",
       "  <tbody>\n",
       "    <tr>\n",
       "      <th>2010-01-01</th>\n",
       "      <td>1080</td>\n",
       "    </tr>\n",
       "    <tr>\n",
       "      <th>2010-01-02</th>\n",
       "      <td>12</td>\n",
       "    </tr>\n",
       "    <tr>\n",
       "      <th>2010-01-03</th>\n",
       "      <td>12</td>\n",
       "    </tr>\n",
       "    <tr>\n",
       "      <th>2010-01-04</th>\n",
       "      <td>792</td>\n",
       "    </tr>\n",
       "    <tr>\n",
       "      <th>2010-01-05</th>\n",
       "      <td>0</td>\n",
       "    </tr>\n",
       "  </tbody>\n",
       "</table>\n",
       "</div>"
      ],
      "text/plain": [
       "            rainfall_rate\n",
       "timestamp                \n",
       "2010-01-01           1080\n",
       "2010-01-02             12\n",
       "2010-01-03             12\n",
       "2010-01-04            792\n",
       "2010-01-05              0"
      ]
     },
     "execution_count": 11,
     "metadata": {},
     "output_type": "execute_result"
    }
   ],
   "source": [
    "imager_sampled_df = pd.DataFrame()\n",
    "imager_sampled_df = imager_rainfall_df.groupby(pd.Grouper(freq=\"M\")).resample('D').sum() # Groupby MONTH and then taking the total daily sum\n",
    "imager_sampled_df.drop(['day', 'hour', 'minute'], axis=1, inplace=True) # Dropped the day, hour, minute columns\n",
    "imager_sampled_df = imager_sampled_df.reset_index(level=0, drop=True)\n",
    "imager_sampled_df.head() # Imager Data after resampling"
   ]
  },
  {
   "cell_type": "code",
   "execution_count": 12,
   "metadata": {},
   "outputs": [],
   "source": [
    "def plot_monthly_data():\n",
    "    titles = [\"January 2010\", \"February 2010\", \"March 2010\", \"April 2010\", \"May 2010\", \"June 2010\", \"July 2010\", \"August 2010\", \"September 2010\", \"October 2010\", \"November 2010\", \"December 2010\"]\n",
    "    for i in range(1, 13):\n",
    "        plt.figure()\n",
    "        plt.plot(sampled_df[sampled_df.index.month == i]['rainfall_rate'])\n",
    "        plt.title(titles[i-1], loc='left')\n",
    "        plt.xlabel('Timestamp')\n",
    "        plt.ylabel('Rainfall Rate in ')\n",
    "        # Show/save figure as desired.\n",
    "        plt.show()\n",
    "# plot_monthly_data()"
   ]
  },
  {
   "cell_type": "code",
   "execution_count": null,
   "metadata": {},
   "outputs": [],
   "source": []
  },
  {
   "cell_type": "code",
   "execution_count": null,
   "metadata": {},
   "outputs": [],
   "source": []
  },
  {
   "cell_type": "markdown",
   "metadata": {},
   "source": [
    "### Basic data analysis for the IMAGER data"
   ]
  },
  {
   "cell_type": "code",
   "execution_count": 13,
   "metadata": {},
   "outputs": [],
   "source": [
    "# daily_statistics_df = pd.DataFrame()\n",
    "# monthly_statistics_df = pd.DataFrame()\n",
    "# daily_statistics_df['daily_total_rate'] = rainfall_df.rainfall_rate.resample('D').sum()\n",
    "# daily_statistics_df['daily_mean_rate'] = rainfall_df.rainfall_rate.resample('D').mean()\n",
    "# monthly_statistics_df['monthly_total_rate'] = rainfall_df.rainfall_rate.resample('M').sum()\n",
    "# monthly_statistics_df['monthly_mean_rate'] = rainfall_df.rainfall_rate.resample('M').mean()"
   ]
  },
  {
   "cell_type": "code",
   "execution_count": 14,
   "metadata": {},
   "outputs": [],
   "source": [
    "# plt.plot(monthly_statistics_df['monthly_mean_rate'] )\n",
    "# plt.title(\"Monthly Mean rainfall from IMAGER, 2010\", loc='left')\n",
    "# plt.xlabel('Timestamp')\n",
    "# plt.ylabel('Mean Rainfall')\n",
    "# ax = plt.gca()\n",
    "# locator = mdates.MonthLocator()\n",
    "# month_fmt = mdates.DateFormatter('%b')\n",
    "# ax.xaxis.set_major_locator(locator)\n",
    "# ax.xaxis.set_major_formatter(month_fmt)"
   ]
  },
  {
   "cell_type": "code",
   "execution_count": null,
   "metadata": {},
   "outputs": [],
   "source": []
  },
  {
   "cell_type": "markdown",
   "metadata": {},
   "source": [
    "## January Rainfall Comparison with Gauge Station Data\n",
    "Taken from - www.weather.gov.sg/climate-historical-daily/\n",
    "\n",
    "NOTE : The Imager Raifall Column is divided by 100, in order to fit it with Gauge Station Data. After knowing the actual units of the data it would be corrected."
   ]
  },
  {
   "cell_type": "code",
   "execution_count": 15,
   "metadata": {},
   "outputs": [],
   "source": [
    "# Separate Dataframes for January\n",
    "imager_jan = imager_sampled_df.loc[imager_sampled_df.index.month == 1]/100\n",
    "gauge_jan = gauge_station_df.loc[gauge_station_df.index.month == 1]"
   ]
  },
  {
   "cell_type": "code",
   "execution_count": 16,
   "metadata": {},
   "outputs": [
    {
     "data": {
      "image/png": "[encoded data removed]",
      "text/plain": [
       "<Figure size 432x288 with 1 Axes>"
      ]
     },
     "metadata": {
      "needs_background": "light"
     },
     "output_type": "display_data"
    }
   ],
   "source": [
    "fig1 = plt.figure()\n",
    "figures.append(fig1)\n",
    "plt.plot(imager_jan['rainfall_rate'], label='Ground Based Station')\n",
    "plt.plot(gauge_jan['rainfall_rate'], label='Gauge Station')\n",
    "plt.plot(chirps_df['precip'], label='CHIRPS')\n",
    "plt.title('Rainfall Rate for January, 2010', loc='left')\n",
    "plt.legend()\n",
    "plt.xlabel('Timestamp')\n",
    "plt.ylabel('Rainfall Rate');"
   ]
  },
  {
   "cell_type": "code",
   "execution_count": null,
   "metadata": {},
   "outputs": [],
   "source": []
  },
  {
   "cell_type": "code",
   "execution_count": null,
   "metadata": {},
   "outputs": [],
   "source": []
  },
  {
   "cell_type": "code",
   "execution_count": null,
   "metadata": {},
   "outputs": [],
   "source": []
  },
  {
   "cell_type": "code",
   "execution_count": null,
   "metadata": {},
   "outputs": [],
   "source": []
  },
  {
   "cell_type": "markdown",
   "metadata": {},
   "source": [
    "## Monsoon Season Analysis -\n",
    "According to [this](https://www.guidemesingapore.com/business-guides/immigration/get-to-know-singapore/weather-and-climate-in-singapore),\n",
    "There is no clear-cut wet or dry season and rain is experienced every single month, usually in the afternoons and early evenings. However, there are two main monsoon seasons in Singapore: **Northeast Monsoon Season (December-March) and the Southwest Monsoon Season (June-September)**."
   ]
  },
  {
   "cell_type": "code",
   "execution_count": 17,
   "metadata": {},
   "outputs": [
    {
     "data": {
      "text/html": [
       "<div>\n",
       "<style scoped>\n",
       "    .dataframe tbody tr th:only-of-type {\n",
       "        vertical-align: middle;\n",
       "    }\n",
       "\n",
       "    .dataframe tbody tr th {\n",
       "        vertical-align: top;\n",
       "    }\n",
       "\n",
       "    .dataframe thead th {\n",
       "        text-align: right;\n",
       "    }\n",
       "</style>\n",
       "<table border=\"1\" class=\"dataframe\">\n",
       "  <thead>\n",
       "    <tr style=\"text-align: right;\">\n",
       "      <th></th>\n",
       "      <th>rainfall_rate</th>\n",
       "    </tr>\n",
       "    <tr>\n",
       "      <th>timestamp</th>\n",
       "      <th></th>\n",
       "    </tr>\n",
       "  </thead>\n",
       "  <tbody>\n",
       "    <tr>\n",
       "      <th>2010-06-01</th>\n",
       "      <td>8.8</td>\n",
       "    </tr>\n",
       "    <tr>\n",
       "      <th>2010-06-02</th>\n",
       "      <td>0.0</td>\n",
       "    </tr>\n",
       "    <tr>\n",
       "      <th>2010-06-03</th>\n",
       "      <td>0.0</td>\n",
       "    </tr>\n",
       "    <tr>\n",
       "      <th>2010-06-04</th>\n",
       "      <td>0.4</td>\n",
       "    </tr>\n",
       "    <tr>\n",
       "      <th>2010-06-05</th>\n",
       "      <td>11.6</td>\n",
       "    </tr>\n",
       "  </tbody>\n",
       "</table>\n",
       "</div>"
      ],
      "text/plain": [
       "            rainfall_rate\n",
       "timestamp                \n",
       "2010-06-01            8.8\n",
       "2010-06-02            0.0\n",
       "2010-06-03            0.0\n",
       "2010-06-04            0.4\n",
       "2010-06-05           11.6"
      ]
     },
     "execution_count": 17,
     "metadata": {},
     "output_type": "execute_result"
    }
   ],
   "source": [
    "monsoon_imager = imager_sampled_df[(imager_sampled_df.index.month >= 6) & (imager_sampled_df.index.month <= 9)]/100\n",
    "monsoon_gauge = gauge_station_df[(gauge_station_df.index.month >= 6) & (gauge_station_df.index.month <= 9)]\n",
    "monsoon_gauge = monsoon_gauge.sort_index(axis=0)\n",
    "monsoon_gauge.head()"
   ]
  },
  {
   "cell_type": "code",
   "execution_count": 18,
   "metadata": {},
   "outputs": [
    {
     "data": {
      "image/png": "[encoded data removed]",
      "text/plain": [
       "<Figure size 432x288 with 1 Axes>"
      ]
     },
     "metadata": {
      "needs_background": "light"
     },
     "output_type": "display_data"
    }
   ],
   "source": [
    "fig2 = plt.figure()\n",
    "figures.append(fig2)\n",
    "plt.plot(monsoon_imager['rainfall_rate'], label='Ground Based Station')\n",
    "plt.plot(monsoon_gauge['rainfall_rate'], linewidth=2, label='Gauge Station')\n",
    "plt.plot(monsoon_chirps_df['precip'], label='CHIRPS', linewidth=2)\n",
    "plt.title('Rainfall for Monsoon Season (June-Sept), 2010', loc='left')\n",
    "plt.xlabel(\"Month\")\n",
    "plt.ylabel(\"Rainfall in \")\n",
    "ax = plt.gca()\n",
    "locator = mdates.MonthLocator()\n",
    "month_fmt = mdates.DateFormatter('%b')\n",
    "ax.xaxis.set_major_locator(locator)\n",
    "ax.xaxis.set_major_formatter(month_fmt)\n",
    "plt.legend();"
   ]
  },
  {
   "cell_type": "markdown",
   "metadata": {},
   "source": [
    "The points are more or less aligned, therefore the IMAGER is giving good aproximates for larger amount of rainfall. It will be more coherant when the units of IMAGER is known."
   ]
  },
  {
   "cell_type": "code",
   "execution_count": null,
   "metadata": {},
   "outputs": [],
   "source": []
  },
  {
   "cell_type": "markdown",
   "metadata": {},
   "source": [
    "### Monsoon Season Comparison Distribution Plot"
   ]
  },
  {
   "cell_type": "code",
   "execution_count": 19,
   "metadata": {},
   "outputs": [
    {
     "name": "stderr",
     "output_type": "stream",
     "text": [
      "/Users/dhirajsaharia/miniconda3/lib/python3.7/site-packages/scipy/stats/stats.py:1713: FutureWarning: Using a non-tuple sequence for multidimensional indexing is deprecated; use `arr[tuple(seq)]` instead of `arr[seq]`. In the future this will be interpreted as an array index, `arr[np.array(seq)]`, which will result either in an error or a different result.\n",
      "  return np.add.reduce(sorted[indexer] * weights, axis=axis) / sumval\n"
     ]
    },
    {
     "data": {
      "image/png": "[encoded data removed]",
      "text/plain": [
       "<Figure size 432x288 with 1 Axes>"
      ]
     },
     "metadata": {
      "needs_background": "light"
     },
     "output_type": "display_data"
    }
   ],
   "source": [
    "sns.distplot(monsoon_gauge['rainfall_rate'], hist=True, kde=True, label='Gauge Station')\n",
    "sns.distplot(monsoon_chirps_df['precip'], hist=True, kde=True, label='CHIRPS')\n",
    "sns.distplot(monsoon_imager['rainfall_rate'], hist=True, kde=True, label='IMAGER')\n",
    "plt.legend()\n",
    "plt.title('Monsoon Season Distribution Plot, 2010', loc=\"left\")\n",
    "plt.xlabel(\"Rainfall\");"
   ]
  },
  {
   "cell_type": "code",
   "execution_count": 20,
   "metadata": {},
   "outputs": [],
   "source": [
    "# corr = monsoon_gauge['rainfall'].corr(monsoon_precip_df['precip'], method='pearson')\n",
    "# corr"
   ]
  },
  {
   "cell_type": "code",
   "execution_count": 21,
   "metadata": {},
   "outputs": [],
   "source": [
    "# chirps_mean = precip_dataset['precip'].sel(time=slice('2010-01-01T00:0','2010-12-31T00:0'), longitude=103.67499, latitude=1.324997).to_dataframe()"
   ]
  },
  {
   "cell_type": "code",
   "execution_count": 22,
   "metadata": {},
   "outputs": [],
   "source": [
    "# fig_to_pdf(figures)"
   ]
  },
  {
   "cell_type": "code",
   "execution_count": 23,
   "metadata": {},
   "outputs": [
    {
     "data": {
      "text/plain": [
       "rainfall_rate    0.367613\n",
       "dtype: float64"
      ]
     },
     "execution_count": 23,
     "metadata": {},
     "output_type": "execute_result"
    }
   ],
   "source": [
    "imager_jan.corrwith(gauge_jan, method='pearson')"
   ]
  },
  {
   "cell_type": "code",
   "execution_count": 24,
   "metadata": {},
   "outputs": [
    {
     "data": {
      "text/plain": [
       "rainfall_rate    0.616719\n",
       "dtype: float64"
      ]
     },
     "execution_count": 24,
     "metadata": {},
     "output_type": "execute_result"
    }
   ],
   "source": [
    "monsoon_imager.corrwith(monsoon_gauge, method='pearson')"
   ]
  },
  {
   "cell_type": "code",
   "execution_count": 25,
   "metadata": {},
   "outputs": [
    {
     "data": {
      "text/plain": [
       "rainfall_rate    0.227545\n",
       "dtype: float64"
      ]
     },
     "execution_count": 25,
     "metadata": {},
     "output_type": "execute_result"
    }
   ],
   "source": [
    "monsoon_gauge.corrwith(monsoon_chirps_df['precip'], method='pearson')"
   ]
  },
  {
   "cell_type": "code",
   "execution_count": 26,
   "metadata": {},
   "outputs": [
    {
     "data": {
      "text/plain": [
       "Index(['latitude', 'longitude', 'precip'], dtype='object')"
      ]
     },
     "execution_count": 26,
     "metadata": {},
     "output_type": "execute_result"
    }
   ],
   "source": [
    "monsoon_chirps_df.columns"
   ]
  },
  {
   "cell_type": "code",
   "execution_count": null,
   "metadata": {},
   "outputs": [],
   "source": []
  },
  {
   "cell_type": "code",
   "execution_count": null,
   "metadata": {},
   "outputs": [],
   "source": []
  }
 ],
 "metadata": {
  "kernelspec": {
   "display_name": "Python 3",
   "language": "python",
   "name": "python3"
  },
  "language_info": {
   "codemirror_mode": {
    "name": "ipython",
    "version": 3
   },
   "file_extension": ".py",
   "mimetype": "text/x-python",
   "name": "python",
   "nbconvert_exporter": "python",
   "pygments_lexer": "ipython3",
   "version": "3.7.1"
  }
 },
 "nbformat": 4,
 "nbformat_minor": 2
}
