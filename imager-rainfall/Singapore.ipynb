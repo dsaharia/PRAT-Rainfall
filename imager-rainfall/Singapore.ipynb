{
 "cells": [
  {
   "cell_type": "markdown",
   "metadata": {},
   "source": [
    "## Singapore Rainfall data for the location (1.30◦N,103.68◦E), collected in year 2010 from ground-based weather station with high resolution.\n",
    "---\n",
    "\n",
    "Exploratory analysis - Initial Plotting and Data Parsing."
   ]
  },
  {
   "cell_type": "code",
   "execution_count": 1,
   "metadata": {},
   "outputs": [],
   "source": [
    "%matplotlib inline\n",
    "from glob import glob # For selecting multiple filenames\n",
    "import pandas as pd\n",
    "import matplotlib.pyplot as plt\n",
    "import matplotlib.style as style\n",
    "import xarray as xr\n",
    "import seaborn as sns # for density plots\n",
    "import matplotlib.dates as mdates\n",
    "from matplotlib.backends.backend_pdf import PdfPages\n",
    "from pandas.plotting import register_matplotlib_converters\n",
    "register_matplotlib_converters()\n",
    "# Used for DTW\n",
    "from scipy.spatial.distance import cdist\n",
    "from tslearn import metrics\n",
    "from tslearn.preprocessing import TimeSeriesScalerMeanVariance\n",
    "# from datetime import datetime\n",
    "style.use('seaborn-whitegrid')\n",
    "plt.rcParams[\"figure.figsize\"] = (16,5) # For Increasing Size of graph"
   ]
  },
  {
   "cell_type": "code",
   "execution_count": 2,
   "metadata": {},
   "outputs": [],
   "source": [
    "# from IPython.core.display import display, HTML\n",
    "# display(HTML(\"<style>.container { width:100% !important; }</style>\"))"
   ]
  },
  {
   "cell_type": "markdown",
   "metadata": {},
   "source": [
    "# Data Importing\n",
    "---\n",
    "\n",
    "* For **PRAT - PRivate and Agile Temporally data**, which is the ground based station with high resolution"
   ]
  },
  {
   "cell_type": "code",
   "execution_count": 3,
   "metadata": {},
   "outputs": [],
   "source": [
    "# Dataframe for PRAT--> PRivate and Agile Temporally data\n",
    "prat_rainfall_df = pd.read_csv(\"data/imagerdata.csv\", header=None, names=[\"day\", \"hour\", \"minute\", \"rainfall_rate\"])"
   ]
  },
  {
   "cell_type": "markdown",
   "metadata": {},
   "source": [
    "* For **CHIRPS** - Satellite based public data"
   ]
  },
  {
   "cell_type": "code",
   "execution_count": 4,
   "metadata": {},
   "outputs": [],
   "source": [
    "chirps_dataset = xr.open_dataset('data/chirps-2010.nc') # open the dataset using xarray"
   ]
  },
  {
   "cell_type": "markdown",
   "metadata": {},
   "source": [
    "* From **Global Precipitation Measurement (GPM)**"
   ]
  },
  {
   "cell_type": "code",
   "execution_count": 5,
   "metadata": {},
   "outputs": [],
   "source": [
    "gpm_dataset = xr.open_dataset('data/singaporeIMERG.nc')"
   ]
  },
  {
   "cell_type": "markdown",
   "metadata": {},
   "source": [
    "* From **Ground based Gauge Station by Meteorological Service Singapore (MSS)**"
   ]
  },
  {
   "cell_type": "code",
   "execution_count": 6,
   "metadata": {},
   "outputs": [
    {
     "data": {
      "text/html": [
       "<div>\n",
       "<style scoped>\n",
       "    .dataframe tbody tr th:only-of-type {\n",
       "        vertical-align: middle;\n",
       "    }\n",
       "\n",
       "    .dataframe tbody tr th {\n",
       "        vertical-align: top;\n",
       "    }\n",
       "\n",
       "    .dataframe thead th {\n",
       "        text-align: right;\n",
       "    }\n",
       "</style>\n",
       "<table border=\"1\" class=\"dataframe\">\n",
       "  <thead>\n",
       "    <tr style=\"text-align: right;\">\n",
       "      <th></th>\n",
       "      <th>Year</th>\n",
       "      <th>Month</th>\n",
       "      <th>Day</th>\n",
       "      <th>Daily Rainfall Total (mm)</th>\n",
       "    </tr>\n",
       "  </thead>\n",
       "  <tbody>\n",
       "    <tr>\n",
       "      <th>0</th>\n",
       "      <td>2010</td>\n",
       "      <td>7</td>\n",
       "      <td>1</td>\n",
       "      <td>104.2</td>\n",
       "    </tr>\n",
       "    <tr>\n",
       "      <th>1</th>\n",
       "      <td>2010</td>\n",
       "      <td>7</td>\n",
       "      <td>2</td>\n",
       "      <td>18.4</td>\n",
       "    </tr>\n",
       "    <tr>\n",
       "      <th>2</th>\n",
       "      <td>2010</td>\n",
       "      <td>7</td>\n",
       "      <td>3</td>\n",
       "      <td>34.8</td>\n",
       "    </tr>\n",
       "    <tr>\n",
       "      <th>3</th>\n",
       "      <td>2010</td>\n",
       "      <td>7</td>\n",
       "      <td>4</td>\n",
       "      <td>0.0</td>\n",
       "    </tr>\n",
       "    <tr>\n",
       "      <th>4</th>\n",
       "      <td>2010</td>\n",
       "      <td>7</td>\n",
       "      <td>5</td>\n",
       "      <td>0.0</td>\n",
       "    </tr>\n",
       "  </tbody>\n",
       "</table>\n",
       "</div>"
      ],
      "text/plain": [
       "   Year  Month  Day  Daily Rainfall Total (mm)\n",
       "0  2010      7    1                      104.2\n",
       "1  2010      7    2                       18.4\n",
       "2  2010      7    3                       34.8\n",
       "3  2010      7    4                        0.0\n",
       "4  2010      7    5                        0.0"
      ]
     },
     "execution_count": 6,
     "metadata": {},
     "output_type": "execute_result"
    }
   ],
   "source": [
    "# Import using glob\n",
    "filenames = glob(\"data/daily_*.csv\")\n",
    "gauge_station_df = pd.concat([pd.read_csv(filename, encoding= 'unicode_escape', usecols = ['Year', 'Month', 'Day', 'Daily Rainfall Total (mm)']) \n",
    "                              for filename in filenames], axis=0)\n",
    "\n",
    "gauge_station_df.head()"
   ]
  },
  {
   "cell_type": "code",
   "execution_count": null,
   "metadata": {},
   "outputs": [],
   "source": []
  },
  {
   "cell_type": "markdown",
   "metadata": {},
   "source": [
    "# Parsing the Datasets"
   ]
  },
  {
   "cell_type": "markdown",
   "metadata": {},
   "source": [
    "* Gauge Station\n",
    "\n",
    "Parse Year, Month and day. Convert to datetime. Set index to timestamp. Drop Year, Month and Day columns. Rename the column"
   ]
  },
  {
   "cell_type": "code",
   "execution_count": 8,
   "metadata": {
    "scrolled": true
   },
   "outputs": [
    {
     "data": {
      "text/html": [
       "<div>\n",
       "<style scoped>\n",
       "    .dataframe tbody tr th:only-of-type {\n",
       "        vertical-align: middle;\n",
       "    }\n",
       "\n",
       "    .dataframe tbody tr th {\n",
       "        vertical-align: top;\n",
       "    }\n",
       "\n",
       "    .dataframe thead th {\n",
       "        text-align: right;\n",
       "    }\n",
       "</style>\n",
       "<table border=\"1\" class=\"dataframe\">\n",
       "  <thead>\n",
       "    <tr style=\"text-align: right;\">\n",
       "      <th></th>\n",
       "      <th>rainfall_rate</th>\n",
       "    </tr>\n",
       "    <tr>\n",
       "      <th>timestamp</th>\n",
       "      <th></th>\n",
       "    </tr>\n",
       "  </thead>\n",
       "  <tbody>\n",
       "    <tr>\n",
       "      <th>2010-07-01</th>\n",
       "      <td>104.2</td>\n",
       "    </tr>\n",
       "    <tr>\n",
       "      <th>2010-07-02</th>\n",
       "      <td>18.4</td>\n",
       "    </tr>\n",
       "    <tr>\n",
       "      <th>2010-07-03</th>\n",
       "      <td>34.8</td>\n",
       "    </tr>\n",
       "    <tr>\n",
       "      <th>2010-07-04</th>\n",
       "      <td>0.0</td>\n",
       "    </tr>\n",
       "    <tr>\n",
       "      <th>2010-07-05</th>\n",
       "      <td>0.0</td>\n",
       "    </tr>\n",
       "  </tbody>\n",
       "</table>\n",
       "</div>"
      ],
      "text/plain": [
       "            rainfall_rate\n",
       "timestamp                \n",
       "2010-07-01          104.2\n",
       "2010-07-02           18.4\n",
       "2010-07-03           34.8\n",
       "2010-07-04            0.0\n",
       "2010-07-05            0.0"
      ]
     },
     "execution_count": 8,
     "metadata": {},
     "output_type": "execute_result"
    }
   ],
   "source": [
    "# Semicolon is used to separate month and day, otherwise datetime is wrongly converted\n",
    "gauge_station_df['timestamp'] = pd.to_datetime(gauge_station_df['Year'].astype(str) + \n",
    "                                               gauge_station_df['Month'].astype(str) + \":\"+ \n",
    "                                               gauge_station_df['Day'].astype(str), format=\"%Y%m:%d\")\n",
    "\n",
    "gauge_station_df.set_index('timestamp', inplace=True)\n",
    "gauge_station_df.drop(['Year', 'Month', 'Day'], inplace=True, axis=1)\n",
    "gauge_station_df.sort_index(axis=0)\n",
    "gauge_station_df.rename(columns={'Daily Rainfall Total (mm)':'rainfall_rate'}, inplace=True)\n",
    "\n",
    "gauge_station_df.head()"
   ]
  },
  {
   "cell_type": "markdown",
   "metadata": {},
   "source": [
    "* CHIRPS"
   ]
  },
  {
   "cell_type": "code",
   "execution_count": 29,
   "metadata": {},
   "outputs": [],
   "source": [
    "# chirps_df = chirps_dataset['precip'].sel(time=slice('2010-01-01T00:0','2010-01-31T00:0'), longitude=103.67499, latitude=1.324997).to_dataframe()\n",
    "# chirps_full_df = chirps_dataset['precip'].sel(time=slice('2010-01-01T00:0','2010-12-31T00:0'), longitude=103.67499, latitude=1.324997).to_dataframe()\n",
    "\n",
    "monsoon_chirps = chirps_dataset.sel(time=slice('2010-06-01','2010-09-30'), \n",
    "                                    longitude=103.67499, latitude=1.324997)"
   ]
  },
  {
   "cell_type": "markdown",
   "metadata": {},
   "source": [
    "* GPM\n",
    "\n",
    "The Dates are not of proper format. So, need to change it to suitable python datetime object"
   ]
  },
  {
   "cell_type": "code",
   "execution_count": 10,
   "metadata": {},
   "outputs": [
    {
     "name": "stderr",
     "output_type": "stream",
     "text": [
      "/Users/dhirajsaharia/miniconda3/lib/python3.7/site-packages/ipykernel_launcher.py:1: RuntimeWarning: Converting a CFTimeIndex with dates from a non-standard calendar, 'julian', to a pandas.DatetimeIndex, which uses dates from the standard calendar.  This may lead to subtle errors in operations that depend on the length of time between dates.\n",
      "  \"\"\"Entry point for launching an IPython kernel.\n"
     ]
    }
   ],
   "source": [
    "gpm_dataset['time'] = gpm_dataset.indexes['time'].to_datetimeindex()"
   ]
  },
  {
   "cell_type": "code",
   "execution_count": 11,
   "metadata": {},
   "outputs": [
    {
     "data": {
      "text/html": [
       "<pre>&lt;xarray.Dataset&gt;\n",
       "Dimensions:           (time: 365)\n",
       "Coordinates:\n",
       "  * time              (time) datetime64[ns] 2010-01-01 2010-01-02 ... 2010-12-31\n",
       "    lon               float32 103.65\n",
       "    lat               float32 1.25\n",
       "Data variables:\n",
       "    precipitationCal  (time) float32 5.6014466 0.62149346 ... 0.92519027</pre>"
      ],
      "text/plain": [
       "<xarray.Dataset>\n",
       "Dimensions:           (time: 365)\n",
       "Coordinates:\n",
       "  * time              (time) datetime64[ns] 2010-01-01 2010-01-02 ... 2010-12-31\n",
       "    lon               float32 103.65\n",
       "    lat               float32 1.25\n",
       "Data variables:\n",
       "    precipitationCal  (time) float32 5.6014466 0.62149346 ... 0.92519027"
      ]
     },
     "execution_count": 11,
     "metadata": {},
     "output_type": "execute_result"
    }
   ],
   "source": [
    "# # gpm_sampled['precipitationCal'].plot()\n",
    "# gpm_sampled.sel(time=slice('2010-06-01T00:0','2010-09-30T00:0'))['precipitationCal'].plot()\n",
    "\n",
    "gpm_sampled = gpm_dataset.sel(lon=103.68, lat=1.30, method='nearest').resample(time='1D').sum()\n",
    "gpm_sampled"
   ]
  },
  {
   "cell_type": "code",
   "execution_count": null,
   "metadata": {},
   "outputs": [],
   "source": []
  },
  {
   "cell_type": "markdown",
   "metadata": {},
   "source": [
    "* **PRAT**"
   ]
  },
  {
   "cell_type": "code",
   "execution_count": 12,
   "metadata": {},
   "outputs": [],
   "source": [
    "# append the timedelta in hours and minutes to get the full timestamp\n",
    "# Using day number to create the date\n",
    "\n",
    "prat_rainfall_df['date']=pd.to_datetime(prat_rainfall_df['day'], unit='D', origin=pd.Timestamp('2009-12-31')) \n",
    "\n",
    "prat_rainfall_df['timestamp'] = prat_rainfall_df['date'] + pd.to_timedelta(prat_rainfall_df['hour'].astype('str') + \n",
    "                                                                               ':' + prat_rainfall_df['minute'].astype('str') + ':00') \n",
    "prat_rainfall_df.set_index('timestamp', inplace=True)"
   ]
  },
  {
   "cell_type": "code",
   "execution_count": 14,
   "metadata": {},
   "outputs": [
    {
     "data": {
      "text/html": [
       "<div>\n",
       "<style scoped>\n",
       "    .dataframe tbody tr th:only-of-type {\n",
       "        vertical-align: middle;\n",
       "    }\n",
       "\n",
       "    .dataframe tbody tr th {\n",
       "        vertical-align: top;\n",
       "    }\n",
       "\n",
       "    .dataframe thead th {\n",
       "        text-align: right;\n",
       "    }\n",
       "</style>\n",
       "<table border=\"1\" class=\"dataframe\">\n",
       "  <thead>\n",
       "    <tr style=\"text-align: right;\">\n",
       "      <th></th>\n",
       "      <th>rainfall_rate</th>\n",
       "    </tr>\n",
       "    <tr>\n",
       "      <th>timestamp</th>\n",
       "      <th></th>\n",
       "    </tr>\n",
       "  </thead>\n",
       "  <tbody>\n",
       "    <tr>\n",
       "      <th>2010-01-01</th>\n",
       "      <td>18.0</td>\n",
       "    </tr>\n",
       "    <tr>\n",
       "      <th>2010-01-02</th>\n",
       "      <td>0.2</td>\n",
       "    </tr>\n",
       "    <tr>\n",
       "      <th>2010-01-03</th>\n",
       "      <td>0.2</td>\n",
       "    </tr>\n",
       "    <tr>\n",
       "      <th>2010-01-04</th>\n",
       "      <td>13.2</td>\n",
       "    </tr>\n",
       "    <tr>\n",
       "      <th>2010-01-05</th>\n",
       "      <td>0.0</td>\n",
       "    </tr>\n",
       "  </tbody>\n",
       "</table>\n",
       "</div>"
      ],
      "text/plain": [
       "            rainfall_rate\n",
       "timestamp                \n",
       "2010-01-01           18.0\n",
       "2010-01-02            0.2\n",
       "2010-01-03            0.2\n",
       "2010-01-04           13.2\n",
       "2010-01-05            0.0"
      ]
     },
     "execution_count": 14,
     "metadata": {},
     "output_type": "execute_result"
    }
   ],
   "source": [
    "prat_sampled_df = pd.DataFrame()\n",
    "prat_rainfall_df['rainfall_rate'] = prat_rainfall_df['rainfall_rate']/60.0 # mm / 60\n",
    "\n",
    "# Groupby MONTH and then taking the total daily sum\n",
    "prat_sampled_df = prat_rainfall_df.resample('D').sum() \n",
    "\n",
    "prat_sampled_df.drop(['day', 'hour', 'minute'], axis=1, inplace=True) # Dropped the day, hour, minute columns\n",
    "prat_sampled_df.head() # PRAT Data after resampling"
   ]
  },
  {
   "cell_type": "code",
   "execution_count": null,
   "metadata": {},
   "outputs": [],
   "source": []
  },
  {
   "cell_type": "code",
   "execution_count": 15,
   "metadata": {},
   "outputs": [
    {
     "data": {
      "text/html": [
       "<pre>&lt;xarray.Dataset&gt;\n",
       "Dimensions:           (lat: 4, lon: 5, time: 17520)\n",
       "Coordinates:\n",
       "  * lat               (lat) float32 1.15 1.25 1.35 1.45\n",
       "  * lon               (lon) float32 103.65 103.75 103.85 103.95 104.05\n",
       "  * time              (time) datetime64[ns] 2010-01-01 ... 2010-12-31T23:30:00\n",
       "Data variables:\n",
       "    precipitationCal  (time, lon, lat) float32 ...\n",
       "Attributes:\n",
       "    FileHeader:                      DOI=10.5067/GPM/IMERG/3B-HH/06;\\nDOIauth...\n",
       "    FileInfo:                        DataFormatVersion=6a;\\nTKCodeBuildVersio...\n",
       "    Grid.GridHeader:                 BinMethod=ARITHMETIC_MEAN;\\nRegistration...\n",
       "    Grid.fullnamepath:               /Grid\n",
       "    DODS_EXTRA.Unlimited_Dimension:  Grid_time\n",
       "    history:                         2020-04-10 15:17:54 GMT Hyrax-1.15.1 htt...</pre>"
      ],
      "text/plain": [
       "<xarray.Dataset>\n",
       "Dimensions:           (lat: 4, lon: 5, time: 17520)\n",
       "Coordinates:\n",
       "  * lat               (lat) float32 1.15 1.25 1.35 1.45\n",
       "  * lon               (lon) float32 103.65 103.75 103.85 103.95 104.05\n",
       "  * time              (time) datetime64[ns] 2010-01-01 ... 2010-12-31T23:30:00\n",
       "Data variables:\n",
       "    precipitationCal  (time, lon, lat) float32 ...\n",
       "Attributes:\n",
       "    FileHeader:                      DOI=10.5067/GPM/IMERG/3B-HH/06;\\nDOIauth...\n",
       "    FileInfo:                        DataFormatVersion=6a;\\nTKCodeBuildVersio...\n",
       "    Grid.GridHeader:                 BinMethod=ARITHMETIC_MEAN;\\nRegistration...\n",
       "    Grid.fullnamepath:               /Grid\n",
       "    DODS_EXTRA.Unlimited_Dimension:  Grid_time\n",
       "    history:                         2020-04-10 15:17:54 GMT Hyrax-1.15.1 htt..."
      ]
     },
     "execution_count": 15,
     "metadata": {},
     "output_type": "execute_result"
    }
   ],
   "source": [
    "gpm_dataset"
   ]
  },
  {
   "cell_type": "markdown",
   "metadata": {},
   "source": [
    "# Monsoon Rainfall\n",
    "According to [this](https://www.guidemesingapore.com/business-guides/immigration/get-to-know-singapore/weather-and-climate-in-singapore),\n",
    "There is no clear-cut wet or dry season and rain is experienced every single month, usually in the afternoons and early evenings. However, there are two main monsoon seasons in Singapore: **Northeast Monsoon Season (December-March) and the Southwest Monsoon Season (June-September)**.\n",
    "\n",
    "* Extract Monsoon Data"
   ]
  },
  {
   "cell_type": "code",
   "execution_count": 42,
   "metadata": {},
   "outputs": [],
   "source": [
    "JUNE = 6\n",
    "SEPT = 9\n",
    "monsoon_prat = prat_sampled_df[(prat_sampled_df.index.month >= JUNE) & (prat_sampled_df.index.month <= SEPT)]\n",
    "monsoon_gauge = gauge_station_df[(gauge_station_df.index.month >= JUNE) & (gauge_station_df.index.month <= SEPT)]\n",
    "monsoon_gauge = monsoon_gauge.sort_index(axis=0)\n",
    "monsoon_gpm = gpm_sampled.sel(time=slice('2010-06-01','2010-09-30'))"
   ]
  },
  {
   "cell_type": "markdown",
   "metadata": {},
   "source": [
    "* Plot the data"
   ]
  },
  {
   "cell_type": "code",
   "execution_count": 58,
   "metadata": {
    "scrolled": true
   },
   "outputs": [
    {
     "data": {
      "image/png": "[encoded data removed]",
      "text/plain": [
       "<Figure size 1152x360 with 1 Axes>"
      ]
     },
     "metadata": {},
     "output_type": "display_data"
    }
   ],
   "source": [
    "plt.plot(monsoon_gauge['rainfall_rate'], linewidth=2, label='Public Gauge Station', c='red')\n",
    "plt.plot(monsoon_chirps['time'], monsoon_chirps['precip'], label='CHIRPS', linewidth=2)\n",
    "plt.plot(monsoon_gpm['time'], monsoon_gpm['precipitationCal'], linewidth=2, label=\"GPM\", c='lightgreen')\n",
    "plt.plot(monsoon_prat['rainfall_rate'], label='PRAT', c='black')\n",
    "plt.title('Rainfall for Monsoon Season (June-Sept), 2010', loc='left')\n",
    "plt.ylabel(\"Rainfall in \")\n",
    "ax = plt.gca()\n",
    "locator = mdates.MonthLocator()\n",
    "month_fmt = mdates.DateFormatter('%b')\n",
    "ax.xaxis.set_major_locator(locator)\n",
    "ax.xaxis.set_major_formatter(month_fmt)\n",
    "plt.legend(loc='upper center', bbox_to_anchor=(0.5, -0.05), ncol=4, prop={'size': 15});"
   ]
  },
  {
   "cell_type": "markdown",
   "metadata": {},
   "source": [
    "* Distribution Plot"
   ]
  },
  {
   "cell_type": "code",
   "execution_count": 55,
   "metadata": {},
   "outputs": [
    {
     "data": {
      "image/png": "[encoded data removed]",
      "text/plain": [
       "<Figure size 1152x360 with 1 Axes>"
      ]
     },
     "metadata": {},
     "output_type": "display_data"
    }
   ],
   "source": [
    "sns.distplot(monsoon_gauge['rainfall_rate'], hist=True, kde=True, label='Gauge Station')\n",
    "sns.distplot(monsoon_chirps['precip'], hist=True, kde=True, label='CHIRPS')\n",
    "sns.distplot(monsoon_prat['rainfall_rate'], hist=True, kde=True, label='IMAGER')\n",
    "sns.distplot(monsoon_gpm['precipitationCal'], hist=True, kde=True, label='GPM')\n",
    "plt.legend()\n",
    "plt.title('Monsoon Season Distribution Plot, 2010', loc=\"left\")\n",
    "plt.xlabel(\"Rainfall\");"
   ]
  },
  {
   "cell_type": "markdown",
   "metadata": {},
   "source": [
    "### Basic data analysis for the IMAGER data"
   ]
  },
  {
   "cell_type": "code",
   "execution_count": 18,
   "metadata": {},
   "outputs": [],
   "source": [
    "# daily_statistics_df = pd.DataFrame()\n",
    "# monthly_statistics_df = pd.DataFrame()\n",
    "# daily_statistics_df['daily_total_rate'] = rainfall_df.rainfall_rate.resample('D').sum()\n",
    "# daily_statistics_df['daily_mean_rate'] = rainfall_df.rainfall_rate.resample('D').mean()\n",
    "# monthly_statistics_df['monthly_total_rate'] = rainfall_df.rainfall_rate.resample('M').sum()\n",
    "# monthly_statistics_df['monthly_mean_rate'] = rainfall_df.rainfall_rate.resample('M').mean()"
   ]
  },
  {
   "cell_type": "code",
   "execution_count": 19,
   "metadata": {},
   "outputs": [],
   "source": [
    "# plt.plot(monthly_statistics_df['monthly_mean_rate'] )\n",
    "# plt.title(\"Monthly Mean rainfall from IMAGER, 2010\", loc='left')\n",
    "# plt.xlabel('Timestamp')\n",
    "# plt.ylabel('Mean Rainfall')\n",
    "# ax = plt.gca()\n",
    "# locator = mdates.MonthLocator()\n",
    "# month_fmt = mdates.DateFormatter('%b')\n",
    "# ax.xaxis.set_major_locator(locator)\n",
    "# ax.xaxis.set_major_formatter(month_fmt)"
   ]
  },
  {
   "cell_type": "code",
   "execution_count": null,
   "metadata": {},
   "outputs": [],
   "source": []
  },
  {
   "cell_type": "code",
   "execution_count": null,
   "metadata": {},
   "outputs": [],
   "source": [
    "# corr = monsoon_gauge['rainfall'].corr(monsoon_precip_df['precip'], method='pearson')\n",
    "# corr"
   ]
  },
  {
   "cell_type": "code",
   "execution_count": null,
   "metadata": {},
   "outputs": [],
   "source": [
    "# chirps_mean = precip_dataset['precip'].sel(time=slice('2010-01-01T00:0','2010-12-31T00:0'), longitude=103.67499, latitude=1.324997).to_dataframe()"
   ]
  },
  {
   "cell_type": "code",
   "execution_count": null,
   "metadata": {},
   "outputs": [],
   "source": [
    "# fig_to_pdf(figures)"
   ]
  },
  {
   "cell_type": "code",
   "execution_count": null,
   "metadata": {},
   "outputs": [],
   "source": [
    "imager_jan.corrwith(gauge_jan, method='pearson')"
   ]
  },
  {
   "cell_type": "code",
   "execution_count": null,
   "metadata": {},
   "outputs": [],
   "source": [
    "monsoon_imager.corrwith(monsoon_gauge, method='pearson')"
   ]
  },
  {
   "cell_type": "code",
   "execution_count": null,
   "metadata": {},
   "outputs": [],
   "source": [
    "monsoon_gauge.corrwith(monsoon_chirps_df['precip'], method='pearson')"
   ]
  },
  {
   "cell_type": "markdown",
   "metadata": {},
   "source": [
    "## Correlation Calculation\n",
    "---"
   ]
  },
  {
   "cell_type": "code",
   "execution_count": null,
   "metadata": {},
   "outputs": [],
   "source": [
    "print(f\"Correlation of Base Station with Gauge station data {monsoon_imager.corrwith(monsoon_gauge, method='pearson').values}\")\n",
    "print(f\"Correlation of Base Station with GPM dataset {monsoon_imager.corrwith(monsoon_gpm['precipitationCal'], method='pearson').values}\")\n",
    "print(f\"Correlation of Base Station with CHIRPS {monsoon_imager.corrwith(monsoon_chirps_df['precip'], method='pearson').values}\")      "
   ]
  },
  {
   "cell_type": "code",
   "execution_count": null,
   "metadata": {},
   "outputs": [],
   "source": [
    "pd.merge(monsoon_imager, monsoon_gauge, on='timestamp').resample('1M')[['rainfall_rate_x', 'rainfall_rate_y']].corr().groupby(level=0).first()"
   ]
  },
  {
   "cell_type": "code",
   "execution_count": null,
   "metadata": {},
   "outputs": [],
   "source": [
    "plt.figure(figsize=(17,5))\n",
    "plt.subplot(1,3,1)\n",
    "plt.scatter(monsoon_gauge['rainfall_rate'], monsoon_imager['rainfall_rate'], alpha=0.7)\n",
    "plt.xlabel('Gauge Station')\n",
    "plt.ylabel('Ground Based')\n",
    "plt.subplot(1,3,2)\n",
    "plt.scatter(monsoon_gpm['precipitationCal'], monsoon_imager['rainfall_rate'], alpha=0.7, c='r')\n",
    "plt.xlabel('GPM')\n",
    "plt.subplot(1,3,3)\n",
    "plt.scatter(monsoon_gpm['precipitationCal'], monsoon_chirps_df['precip'], alpha=0.7, c='g')\n",
    "plt.xlabel('CHIRPS');"
   ]
  },
  {
   "cell_type": "code",
   "execution_count": null,
   "metadata": {},
   "outputs": [],
   "source": []
  },
  {
   "cell_type": "markdown",
   "metadata": {},
   "source": [
    "## Dynamic Time Warping (DTW) -\n",
    "---"
   ]
  },
  {
   "cell_type": "code",
   "execution_count": null,
   "metadata": {},
   "outputs": [],
   "source": [
    "scaler = TimeSeriesScalerMeanVariance(mu=0., std=1.)  # Rescale time series\n",
    "imager_scaled = scaler.fit_transform(monsoon_imager['rainfall_rate'])\n",
    "gauge_scaled = scaler.fit_transform(monsoon_gauge['rainfall_rate'])\n",
    "path_gauge, sim_gauge = metrics.dtw_path(monsoon_imager['rainfall_rate'], monsoon_gauge['rainfall_rate'])\n",
    "path_gpm, sim_gpm = metrics.dtw_path(monsoon_imager['rainfall_rate'], monsoon_gpm['precipitationCal'])\n",
    "print(f\"DTW similarity score between ground based and gauge station is {sim_gauge}\")\n",
    "print(f\"DTW similarity score between ground based and GPM is {sim_gpm}\")"
   ]
  },
  {
   "cell_type": "code",
   "execution_count": null,
   "metadata": {},
   "outputs": [],
   "source": []
  },
  {
   "cell_type": "code",
   "execution_count": null,
   "metadata": {},
   "outputs": [],
   "source": [
    "imager_scaled[:, :, 0]"
   ]
  },
  {
   "cell_type": "code",
   "execution_count": null,
   "metadata": {},
   "outputs": [],
   "source": []
  },
  {
   "cell_type": "code",
   "execution_count": null,
   "metadata": {},
   "outputs": [],
   "source": []
  }
 ],
 "metadata": {
  "kernelspec": {
   "display_name": "Python 3",
   "language": "python",
   "name": "python3"
  },
  "language_info": {
   "codemirror_mode": {
    "name": "ipython",
    "version": 3
   },
   "file_extension": ".py",
   "mimetype": "text/x-python",
   "name": "python",
   "nbconvert_exporter": "python",
   "pygments_lexer": "ipython3",
   "version": "3.7.1"
  }
 },
 "nbformat": 4,
 "nbformat_minor": 2
}
